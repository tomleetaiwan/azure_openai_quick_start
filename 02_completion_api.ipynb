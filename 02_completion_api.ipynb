{
 "cells": [
  {
   "cell_type": "markdown",
   "metadata": {},
   "source": [
    "# 自動完成 (Completion) API 其他應用展示"
   ]
  },
  {
   "cell_type": "code",
   "execution_count": 21,
   "metadata": {},
   "outputs": [
    {
     "name": "stdout",
     "output_type": "stream",
     "text": [
      "Requirement already satisfied: openai in c:\\users\\tomlee\\appdata\\local\\programs\\python\\python311\\lib\\site-packages (1.51.0)\n",
      "Requirement already satisfied: python-dotenv in c:\\users\\tomlee\\appdata\\local\\programs\\python\\python311\\lib\\site-packages (1.0.0)\n",
      "Requirement already satisfied: anyio<5,>=3.5.0 in c:\\users\\tomlee\\appdata\\local\\programs\\python\\python311\\lib\\site-packages (from openai) (3.7.1)\n",
      "Requirement already satisfied: distro<2,>=1.7.0 in c:\\users\\tomlee\\appdata\\local\\programs\\python\\python311\\lib\\site-packages (from openai) (1.9.0)\n",
      "Requirement already satisfied: httpx<1,>=0.23.0 in c:\\users\\tomlee\\appdata\\local\\programs\\python\\python311\\lib\\site-packages (from openai) (0.24.1)\n",
      "Requirement already satisfied: jiter<1,>=0.4.0 in c:\\users\\tomlee\\appdata\\local\\programs\\python\\python311\\lib\\site-packages (from openai) (0.5.0)\n",
      "Requirement already satisfied: pydantic<3,>=1.9.0 in c:\\users\\tomlee\\appdata\\local\\programs\\python\\python311\\lib\\site-packages (from openai) (2.9.2)\n",
      "Requirement already satisfied: sniffio in c:\\users\\tomlee\\appdata\\local\\programs\\python\\python311\\lib\\site-packages (from openai) (1.3.0)\n",
      "Requirement already satisfied: tqdm>4 in c:\\users\\tomlee\\appdata\\local\\programs\\python\\python311\\lib\\site-packages (from openai) (4.65.0)\n",
      "Requirement already satisfied: typing-extensions<5,>=4.11 in c:\\users\\tomlee\\appdata\\local\\programs\\python\\python311\\lib\\site-packages (from openai) (4.12.2)\n",
      "Requirement already satisfied: idna>=2.8 in c:\\users\\tomlee\\appdata\\local\\programs\\python\\python311\\lib\\site-packages (from anyio<5,>=3.5.0->openai) (3.4)\n",
      "Requirement already satisfied: certifi in c:\\users\\tomlee\\appdata\\local\\programs\\python\\python311\\lib\\site-packages (from httpx<1,>=0.23.0->openai) (2022.12.7)\n",
      "Requirement already satisfied: httpcore<0.18.0,>=0.15.0 in c:\\users\\tomlee\\appdata\\local\\programs\\python\\python311\\lib\\site-packages (from httpx<1,>=0.23.0->openai) (0.17.3)\n",
      "Requirement already satisfied: annotated-types>=0.6.0 in c:\\users\\tomlee\\appdata\\local\\programs\\python\\python311\\lib\\site-packages (from pydantic<3,>=1.9.0->openai) (0.7.0)\n",
      "Requirement already satisfied: pydantic-core==2.23.4 in c:\\users\\tomlee\\appdata\\local\\programs\\python\\python311\\lib\\site-packages (from pydantic<3,>=1.9.0->openai) (2.23.4)\n",
      "Requirement already satisfied: colorama in c:\\users\\tomlee\\appdata\\local\\programs\\python\\python311\\lib\\site-packages (from tqdm>4->openai) (0.4.6)\n",
      "Requirement already satisfied: h11<0.15,>=0.13 in c:\\users\\tomlee\\appdata\\local\\programs\\python\\python311\\lib\\site-packages (from httpcore<0.18.0,>=0.15.0->httpx<1,>=0.23.0->openai) (0.14.0)\n",
      "Note: you may need to restart the kernel to use updated packages.\n"
     ]
    }
   ],
   "source": [
    "%pip install openai python-dotenv"
   ]
  },
  {
   "cell_type": "code",
   "execution_count": 22,
   "metadata": {},
   "outputs": [],
   "source": [
    "import os\n",
    "from dotenv import load_dotenv\n",
    "from openai import AzureOpenAI\n",
    "\n",
    "# 載入環境變數\n",
    "load_dotenv()\n",
    "\n",
    "# 設定呼叫 Azure OpenAI Service API 所需連線資訊\n",
    "azure_endpoint = os.getenv(\"AZURE_OPENAI_ENDPOINT\")\n",
    "api_key=os.getenv(\"AZURE_OPENAI_API_KEY\") \n",
    "api_version=os.getenv(\"AZURE_OPENAI_API_VERSION\")\n",
    "\n",
    "# 最簡之 API 呼叫\n",
    "client = AzureOpenAI(\n",
    "  azure_endpoint=azure_endpoint, \n",
    "  api_key=api_key,  \n",
    "  api_version=api_version\n",
    ")\n"
   ]
  },
  {
   "cell_type": "markdown",
   "metadata": {},
   "source": [
    "## 降低幻覺發生的機會的提示\n",
    "以目前唯一支援 GPT-3 Completions API 的 gpt-35-turbo-instruct 模型示範"
   ]
  },
  {
   "cell_type": "code",
   "execution_count": 23,
   "metadata": {},
   "outputs": [
    {
     "name": "stdout",
     "output_type": "stream",
     "text": [
      " 抱歉,我不知道.\n"
     ]
    }
   ],
   "source": [
    "# 透過環境變數取得所使用的模型部署名稱\n",
    "model = os.getenv('COMPLETIONS_DEPLOYMENT_NAME')\n",
    "\n",
    "# 設定要輸入的問題\n",
    "prompt = \"\"\"回答我的問題，如果不知道就直接說 \"抱歉, 我不知道\".\\n\n",
    "Q: 請問誰是 2020 年夏季奧運女子跳高冠軍?\\n\n",
    "A:\"\"\"\n",
    "\n",
    "response  = client.completions.create(\n",
    "    model=model,\n",
    "    prompt=prompt,\n",
    "    temperature=0,\n",
    "    max_tokens=50,\n",
    "    top_p=1,\n",
    "    frequency_penalty=0,\n",
    "    presence_penalty=0,\n",
    "    stop=\"\\n\"\n",
    ")\n",
    "\n",
    "print(response.choices[0].text)"
   ]
  },
  {
   "cell_type": "markdown",
   "metadata": {},
   "source": [
    "## 文字情緒判斷 \n",
    "嘗試使用 gpt-35-turbo 與 gpt-4 開始支援的 ChatCompletion API 來進行自動完成文字的情緒判斷。"
   ]
  },
  {
   "cell_type": "code",
   "execution_count": 24,
   "metadata": {},
   "outputs": [
    {
     "name": "stdout",
     "output_type": "stream",
     "text": [
      "這些客戶反應大多是負面的。以下是每個反應的分析：\n",
      "\n",
      "1. **Q: 這樣爛的產品都可以賣的出去.**\n",
      "   - 這是一個明顯的負面反應。客戶對產品的質量非常不滿意，甚至感到驚訝這樣的產品能夠銷售。\n",
      "\n",
      "2. **Q: 這玩意真的棒，只是跟廣告有點差距.**\n",
      "   - 這是一個混合反應。客戶對產品本身有一定的肯定（\"這玩意真的棒\"），但也指出產品與廣告描述有差距，這部分是負面的。\n",
      "\n",
      "3. **Q: 妳家產品用了之後讓我感覺自己像是豬八戒照鏡子.**\n",
      "   - 這是一個負面反應。客戶使用產品後感到非常不滿意，甚至用\"豬八戒照鏡子\"這樣的比喻來形容自己的感受，顯示出強烈的失望和不滿。\n",
      "\n",
      "總結\n"
     ]
    }
   ],
   "source": [
    "# 透過環境變數取得所使用的模型部署名稱\n",
    "model = os.getenv('CHAT_DEPLOYMENT_NAME')\n",
    "\n",
    "response = client.chat.completions.create(\n",
    "  model= model,\n",
    "  messages = [ \n",
    "    {'role': 'user', 'content':  \"告訴我以下客戶反應是正面還是負面. \\n \" \\\n",
    "        \"Q: 這樣爛的產品都可以賣的出去. \\n\" \\\n",
    "        \"Q: 這玩意真的棒，只是跟廣告有點差距. \\n\" \\\n",
    "        \"Q: 妳家產品用了之後讓我感覺自己像是豬八戒照鏡子. \\n\"\n",
    "    }\n",
    "  ],\n",
    "  temperature=0,\n",
    "  max_tokens=250\n",
    ")\n",
    "\n",
    "print(response.choices[0].message.content) "
   ]
  },
  {
   "cell_type": "markdown",
   "metadata": {},
   "source": [
    "## 檢查文句中是否包含個人隱私資訊 (PII) \n",
    "嘗試使用 gpt-35-turbo 與 gpt-4 開始支援的 ChatCompletion API 來進行自動完成，判斷一段文字中是否有包含個人隱私資訊 (PII) 的風險。"
   ]
  },
  {
   "cell_type": "code",
   "execution_count": 20,
   "metadata": {},
   "outputs": [
    {
     "name": "stdout",
     "output_type": "stream",
     "text": [
      "以下是與個人隱私資訊相關的內容：\n",
      "\n",
      "1. 姓名：John Doe\n",
      "2. 年齡：35歲\n",
      "3. 住址：21 Main Street, New York, NY\n",
      "4. 職業：軟體工程師\n",
      "5. 工作地點：Google\n",
      "6. 配偶姓名：Jane Doe\n",
      "7. 子女數量：兩個孩子\n"
     ]
    }
   ],
   "source": [
    "# 透過環境變數取得所使用的模型部署名稱\n",
    "model = os.getenv('CHAT_DEPLOYMENT_NAME')\n",
    "\n",
    "response = client.chat.completions.create(\n",
    "  model= model,\n",
    "  messages = [ \n",
    "    {'role': 'user', 'content': '以條列方式找出以下跟個人隱私資訊相關的內容\\n\\n' \\\n",
    "     'John Doe is a 35-year old man and he lives at 21 Main Street, New York, NY.' \\\n",
    "     ' He is a software engineer and he works at Google.' \\\n",
    "     ' He has a wife named Jane Doe and they have two children'\n",
    "    \n",
    "    }\n",
    "  ],\n",
    "  temperature = 0,\n",
    "  max_tokens=400\n",
    ")\n",
    "\n",
    "print(response.choices[0].message.content) "
   ]
  }
 ],
 "metadata": {
  "kernelspec": {
   "display_name": "Python 3",
   "language": "python",
   "name": "python3"
  },
  "language_info": {
   "codemirror_mode": {
    "name": "ipython",
    "version": 3
   },
   "file_extension": ".py",
   "mimetype": "text/x-python",
   "name": "python",
   "nbconvert_exporter": "python",
   "pygments_lexer": "ipython3",
   "version": "3.11.9"
  },
  "orig_nbformat": 4
 },
 "nbformat": 4,
 "nbformat_minor": 2
}
