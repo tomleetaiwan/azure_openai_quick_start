{
  "cells": [
    {
      "cell_type": "markdown",
      "metadata": {
        "nteract": {
          "transient": {
            "deleting": false
          }
        }
      },
      "source": [
        "# OpenAI 快速入門"
      ]
    },
    {
      "cell_type": "markdown",
      "metadata": {
        "nteract": {
          "transient": {
            "deleting": false
          }
        }
      },
      "source": [
        "# 概述  \n",
        "大型語言模型 (Large language models,LLM) 會嘗試依據用戶輸入的一串文字預測接下來接續出現的內容，本範例將展示 LLM 概念，並以 Python 3.11 與 OpenAI 函式庫，展示提示設計 (prompt design) 與 Azure OpenAI Service 主要功能。\n",
        "\n",
        "有關更多的資訊，請參閱微軟官方 Azure Open AI 快速入門線上文件 https://learn.microsoft.com/en-us/azure/cognitive-services/openai/quickstart?pivots=programming-language-studio"
      ]
    },
    {
      "cell_type": "markdown",
      "metadata": {
        "nteract": {
          "transient": {
            "deleting": false
          }
        }
      },
      "source": [
        "### 開始使用 Azure OpenAI Service\n",
        "\n",
        "新客戶需要 [申請核准](https://aka.ms/oai/access) 後才能夠使用 Azure OpenAI Service\n",
        "當申請核准後，用戶可以登入 Azure portal 建立 Azure OpenAI Service 資源，並開始探索 Azure AI Studio 各項功能。\n",
        "\n",
        "[2023/1/19 Azure OpenAI Service 正式發表時所整理之服務介紹](https://techcommunity.microsoft.com/t5/educator-developer-blog/azure-openai-is-now-generally-available/ba-p/3719177 )\n"
      ]
    },
    {
      "cell_type": "markdown",
      "metadata": {
        "nteract": {
          "transient": {
            "deleting": false
          }
        }
      },
      "source": [
        "### 建立第一個提示 API 呼叫\n",
        "以下將做一個簡單的練習，示範基本的提示設計 (prompts design) 與自動完成 (completion) API 呼叫。  \n",
        "\n",
        "**步驟**:  \n",
        "1. 安裝 OpenAI 所需套件\n",
        "2. 運用輔助函式庫，從環境變數取得 Azure OpenAI API 鍵值\n",
        "3. 選擇適當之模型\n",
        "4. 提示設計 (Prompt Design)\n",
        "5. 呼叫 API"
      ]
    },
    {
      "cell_type": "markdown",
      "metadata": {
        "nteract": {
          "transient": {
            "deleting": false
          }
        }
      },
      "source": [
        "### 1. 安裝 OpenAI 所需套件"
      ]
    },
    {
      "cell_type": "code",
      "execution_count": 17,
      "metadata": {
        "gather": {
          "logged": 1674254990318
        },
        "jupyter": {
          "outputs_hidden": true,
          "source_hidden": false
        },
        "nteract": {
          "transient": {
            "deleting": false
          }
        }
      },
      "outputs": [
        {
          "name": "stdout",
          "output_type": "stream",
          "text": [
            "Requirement already satisfied: openai in c:\\users\\tomlee\\appdata\\local\\programs\\python\\python311\\lib\\site-packages (0.27.8)\n",
            "Requirement already satisfied: python-dotenv in c:\\users\\tomlee\\appdata\\local\\programs\\python\\python311\\lib\\site-packages (1.0.0)\n",
            "Requirement already satisfied: requests>=2.20 in c:\\users\\tomlee\\appdata\\local\\programs\\python\\python311\\lib\\site-packages (from openai) (2.31.0)\n",
            "Requirement already satisfied: tqdm in c:\\users\\tomlee\\appdata\\local\\programs\\python\\python311\\lib\\site-packages (from openai) (4.65.0)\n",
            "Requirement already satisfied: aiohttp in c:\\users\\tomlee\\appdata\\local\\programs\\python\\python311\\lib\\site-packages (from openai) (3.8.5)\n",
            "Requirement already satisfied: charset-normalizer<4,>=2 in c:\\users\\tomlee\\appdata\\local\\programs\\python\\python311\\lib\\site-packages (from requests>=2.20->openai) (3.2.0)\n",
            "Requirement already satisfied: idna<4,>=2.5 in c:\\users\\tomlee\\appdata\\local\\programs\\python\\python311\\lib\\site-packages (from requests>=2.20->openai) (3.4)\n",
            "Requirement already satisfied: urllib3<3,>=1.21.1 in c:\\users\\tomlee\\appdata\\local\\programs\\python\\python311\\lib\\site-packages (from requests>=2.20->openai) (2.0.4)\n",
            "Requirement already satisfied: certifi>=2017.4.17 in c:\\users\\tomlee\\appdata\\local\\programs\\python\\python311\\lib\\site-packages (from requests>=2.20->openai) (2023.7.22)\n",
            "Requirement already satisfied: attrs>=17.3.0 in c:\\users\\tomlee\\appdata\\local\\programs\\python\\python311\\lib\\site-packages (from aiohttp->openai) (23.1.0)\n",
            "Requirement already satisfied: multidict<7.0,>=4.5 in c:\\users\\tomlee\\appdata\\local\\programs\\python\\python311\\lib\\site-packages (from aiohttp->openai) (6.0.4)\n",
            "Requirement already satisfied: async-timeout<5.0,>=4.0.0a3 in c:\\users\\tomlee\\appdata\\local\\programs\\python\\python311\\lib\\site-packages (from aiohttp->openai) (4.0.2)\n",
            "Requirement already satisfied: yarl<2.0,>=1.0 in c:\\users\\tomlee\\appdata\\local\\programs\\python\\python311\\lib\\site-packages (from aiohttp->openai) (1.9.2)\n",
            "Requirement already satisfied: frozenlist>=1.1.1 in c:\\users\\tomlee\\appdata\\local\\programs\\python\\python311\\lib\\site-packages (from aiohttp->openai) (1.4.0)\n",
            "Requirement already satisfied: aiosignal>=1.1.2 in c:\\users\\tomlee\\appdata\\local\\programs\\python\\python311\\lib\\site-packages (from aiohttp->openai) (1.3.1)\n",
            "Requirement already satisfied: colorama in c:\\users\\tomlee\\appdata\\local\\programs\\python\\python311\\lib\\site-packages (from tqdm->openai) (0.4.6)\n",
            "Note: you may need to restart the kernel to use updated packages.\n"
          ]
        }
      ],
      "source": [
        "%pip install openai python-dotenv"
      ]
    },
    {
      "cell_type": "markdown",
      "metadata": {
        "nteract": {
          "transient": {
            "deleting": false
          }
        }
      },
      "source": [
        "### 2. 運用輔助函式庫，從環境變數取得 Azure OpenAI API 鍵值"
      ]
    },
    {
      "cell_type": "code",
      "execution_count": 1,
      "metadata": {
        "gather": {
          "logged": 1674829434433
        },
        "jupyter": {
          "outputs_hidden": false,
          "source_hidden": false
        },
        "nteract": {
          "transient": {
            "deleting": false
          }
        }
      },
      "outputs": [],
      "source": [
        "import os\n",
        "import openai\n",
        "from dotenv import load_dotenv\n",
        "\n",
        "# 載入環境變數\n",
        "load_dotenv()\n",
        "\n",
        "# 設定呼叫 OpenAI API 所需連線資訊\n",
        "openai.api_type = os.getenv(\"OPENAI_API_TYPE\")\n",
        "openai.api_version = os.getenv(\"OPENAI_API_VERSION\")\n",
        "\n",
        "API_KEY = os.getenv(\"OPENAI_API_KEY\")\n",
        "assert API_KEY, \"發生錯誤: 缺少 Azure OpenAI Service 鍵值\"\n",
        "openai.api_key = API_KEY\n",
        "\n",
        "RESOURCE_ENDPOINT = os.getenv(\"OPENAI_API_BASE\")\n",
        "assert RESOURCE_ENDPOINT, \"發生錯誤: 缺少 Azure OpenAI Service 連線端點\"\n",
        "assert \"openai.azure.com\" in RESOURCE_ENDPOINT.lower(), \"發生錯誤: Azure OpenAI Service 連線端點格式應該如: \\n\\n\\t<您所建立之資源名稱>.openai.azure.com\"\n",
        "openai.api_base = RESOURCE_ENDPOINT"
      ]
    },
    {
      "cell_type": "markdown",
      "metadata": {
        "nteract": {
          "transient": {
            "deleting": false
          }
        }
      },
      "source": [
        "### 3. 選擇適當之模型  \n",
        "Azure OpenAI Service 提供多種不同功能與價位的模型提供用戶選用。 可選用的模型可能會依區域資料中心而有所不同。 GPT-3 等較舊的模型將於 2024 年 7 月淘汰，搭配 GPT-3 的 Completion API 也將逐漸被 ChatCompletion API 所取代。目前建議以 ChatCompletion API 搭配使用以下的模型 :\n",
        "\n",
        "* gpt-4\n",
        "* gpt-4-32k\n",
        "* gpt-35-turbo\n",
        "* gpt-35-turbo-16k\n",
        "* dalle2 (技術預覽) \n",
        "\n",
        "由於在 2023 年的過渡階段，本 Quick Start 仍包含了 Completion API 內容與少數 GPT-3 模型的範例。模型支援最新資訊可參閱微軟官網 [Azure OpenAI Service 模型資訊](https://learn.microsoft.com/en-us/azure/ai-services/openai/concepts/models)  \n",
        "\n",
        "此外過去 GPT-3 提供三種模型 Embeddings 模型可用於\n",
        "\n",
        "* 文字近似比對 (Similarity)\n",
        "* 文字搜尋 (Text Search)\n",
        "* 程式碼搜尋 (Code Search)\n",
        "\n",
        "多種較舊的 Embeddings 模型同樣將於 2024 年 7 月淘汰。目前建議使用的 Embedding 模型為\n",
        "\n",
        "* text-embedding-ada-002\n",
        "\n",
        "此模型能夠以單一模型涵蓋支援三種情境。"
      ]
    },
    {
      "cell_type": "code",
      "execution_count": 2,
      "metadata": {
        "gather": {
          "logged": 1674742720788
        },
        "jupyter": {
          "outputs_hidden": true,
          "source_hidden": false
        },
        "nteract": {
          "transient": {
            "deleting": false
          }
        }
      },
      "outputs": [],
      "source": [
        "# 選取自動完成 (Completion) API 所使用的模型\n",
        "\n",
        "model = os.getenv('DEPLOYMENT_NAME')\n"
      ]
    },
    {
      "cell_type": "markdown",
      "metadata": {
        "nteract": {
          "transient": {
            "deleting": false
          }
        }
      },
      "source": [
        "## 4. 提示設計 (Prompt Design)\n",
        "\n",
        "大型語言模型的神奇之處；在於能夠給予少量的範例量即可理解人類的自然語言意義，並利用提示 (Prompt) 操控模型產出有用的文字內容，例如\n",
        "\n",
        "* 如何拼字\n",
        "* 文法調整\n",
        "* 以不同的方式改寫文案\n",
        "* 回答問題\n",
        "* 進行對話\n",
        "* 多種人類語言之間的翻譯\n",
        "* 程式碼撰寫\n",
        "* etc.\n",
        "\n",
        "#### 如何操控大型語言模型\n",
        "\n",
        "提示 (Prompts) 是一段文字用以操控大型語言模型，可以透過以下幾種方式提示大型語言模型產生我們期望之輸出:\n",
        "+ 說明 (Instruction)：告訴模型你想要什麼\n",
        "+ 完成 (Completion)：誘導模型完成與填補您想要的文字\n",
        "+ 演示 (Demonstration)：以範例的方式向模型展示您想要產出的文字內容，可分為三類 :\n",
        "    - 無樣本學習 (Zero-shot) – 完全不用給範例直接讓模型預測應該生成的內容\n",
        "    - 單一樣本學習 (One-shot) – 僅給一個範例示範給模型，接下來讓模型去預測應該生成的內容\n",
        "    - 少量樣本學習 (Few-shot) – 給模型多個範例後，接下來讓模型去預測應該生成的內容\n",
        "\n",
        "\n",
        "#### 三個建立提示 (prompts) 的準則:\n",
        "\n",
        "**展示與講述 (Show and tell)**. 如前所述透過說明 (Instruction) 與展示 (Demonstration) 的結合；明確的告訴模型您想要產出什麼內容。例如您希望模型按字母順序列表排序，或是依照文字內含的情感來進行段落分類，請在提示中明確經精準的表達出來。\n",
        "\n",
        "**提供高品質的提示資料 (Provide quality data)**. 如果您嘗試利用 Azure OpenAI Service 遵循某種模式自動替文字內容分類 (Classify) 與貼標籤，請確保提示中提供了足夠的範例。並且校對您給的範例是否有錯別字，或是不正確的分類。大型語言模型通常夠聰明能夠理解拼字與錯別字背後的意義，但也可能誤以為這是故意的，影響了之後文字分類的正確性。\n",
        "\n",
        "**檢查參數設定 (Check your settings)**  temperature 和 top_p 兩個參數可以控制模型產出的文字內容的多樣性。 如果您要求模型產出一個答案，那麼您需要將這些參數值設置的較低。 如果您希望產出更多樣化的文字內容，則需要將這兩個參數設定的更高。這兩個參數與控制模型的 “聰明” 或 “創造力” 無關，僅是控制產出內容更是更單一或是有著更豐富的變化。\n",
        "\n",
        "使用 Azure AI Studio 的 Playground 可以驗證提示是否產出您期望的文字內容以及確認參數設定的效果。\n",
        "\n",
        "資料來源: https://platform.openai.com/docs/quickstart"
      ]
    },
    {
      "cell_type": "markdown",
      "metadata": {
        "nteract": {
          "transient": {
            "deleting": false
          }
        }
      },
      "source": [
        "### 5. 呼叫 API"
      ]
    },
    {
      "cell_type": "code",
      "execution_count": 4,
      "metadata": {
        "gather": {
          "logged": 1674494935186
        },
        "jupyter": {
          "outputs_hidden": false,
          "source_hidden": false
        },
        "nteract": {
          "transient": {
            "deleting": false
          }
        }
      },
      "outputs": [],
      "source": [
        "# 建立第一個提示 (prompt)，英文書寫中是必須該使用 Oxford comma (https://zh.wikipedia.org/wiki/%E7%89%9B%E6%B4%A5%E9%80%97%E8%99%9F)?\n",
        "text_prompt = \"Should oxford commas always be used?\""
      ]
    },
    {
      "cell_type": "code",
      "execution_count": 5,
      "metadata": {
        "gather": {
          "logged": 1674494938225
        },
        "jupyter": {
          "outputs_hidden": false,
          "source_hidden": false
        },
        "nteract": {
          "transient": {
            "deleting": false
          }
        }
      },
      "outputs": [
        {
          "data": {
            "text/plain": [
              "<OpenAIObject text_completion id=cmpl-7jGybIvC5mAvxFCeMG1GLZ9jnYXUI at 0x2bef46adaf0> JSON: {\n",
              "  \"id\": \"cmpl-7jGybIvC5mAvxFCeMG1GLZ9jnYXUI\",\n",
              "  \"object\": \"text_completion\",\n",
              "  \"created\": 1691024373,\n",
              "  \"model\": \"gpt-35-turbo\",\n",
              "  \"choices\": [\n",
              "    {\n",
              "      \"text\": \"\\n\\nThe Oxford comma is the comma used before the conjunction in a list.\\n\\nIt can a\",\n",
              "      \"index\": 0,\n",
              "      \"finish_reason\": \"stop\",\n",
              "      \"logprobs\": null\n",
              "    }\n",
              "  ],\n",
              "  \"usage\": {\n",
              "    \"completion_tokens\": 18,\n",
              "    \"prompt_tokens\": 8,\n",
              "    \"total_tokens\": 26\n",
              "  }\n",
              "}"
            ]
          },
          "execution_count": 5,
          "metadata": {},
          "output_type": "execute_result"
        }
      ],
      "source": [
        "# 最簡之 API 呼叫\n",
        "openai.Completion.create(\n",
        "    engine=model,\n",
        "    prompt=text_prompt,\n",
        "    max_tokens=60\n",
        ")"
      ]
    },
    {
      "cell_type": "markdown",
      "metadata": {
        "nteract": {
          "transient": {
            "deleting": false
          }
        }
      },
      "source": [
        "### 重複呼叫，產生出來的結果會相同嗎?"
      ]
    },
    {
      "cell_type": "code",
      "execution_count": 6,
      "metadata": {
        "gather": {
          "logged": 1674494940872
        },
        "jupyter": {
          "outputs_hidden": false,
          "source_hidden": false
        },
        "nteract": {
          "transient": {
            "deleting": false
          }
        }
      },
      "outputs": [
        {
          "data": {
            "text/plain": [
              "<OpenAIObject text_completion id=cmpl-7jGyiNwpFR5XAR55Z0lZX3yAz7vfl at 0x2bef46adf70> JSON: {\n",
              "  \"id\": \"cmpl-7jGyiNwpFR5XAR55Z0lZX3yAz7vfl\",\n",
              "  \"object\": \"text_completion\",\n",
              "  \"created\": 1691024380,\n",
              "  \"model\": \"gpt-35-turbo\",\n",
              "  \"choices\": [\n",
              "    {\n",
              "      \"text\": \" For instance,\\n\\nAlpha, Beta, and Gamma\\nAlpha, Beta and Gamma\\n\\nThe second example is incorrect, but are there instances where it is required? Or is it purely a style issue?\\nGesteenjnvso 2018-10-19: The use of a serial comma\",\n",
              "      \"index\": 0,\n",
              "      \"finish_reason\": \"length\",\n",
              "      \"logprobs\": null\n",
              "    }\n",
              "  ],\n",
              "  \"usage\": {\n",
              "    \"completion_tokens\": 60,\n",
              "    \"prompt_tokens\": 8,\n",
              "    \"total_tokens\": 68\n",
              "  }\n",
              "}"
            ]
          },
          "execution_count": 6,
          "metadata": {},
          "output_type": "execute_result"
        }
      ],
      "source": [
        "openai.Completion.create(\n",
        "    engine=model,\n",
        "    prompt=text_prompt,\n",
        "    max_tokens=60\n",
        ")"
      ]
    },
    {
      "cell_type": "markdown",
      "metadata": {
        "nteract": {
          "transient": {
            "deleting": false
          }
        }
      },
      "source": [
        "# 使用案例\n",
        "1. 內容摘要 (Summarize Text)\n",
        "2. 文字內容分類 (Classify)，貼標籤  \n",
        "3. 產生新產品英文名稱\n",
        "4. 內嵌 Embeddings\n"
      ]
    },
    {
      "cell_type": "markdown",
      "metadata": {
        "nteract": {
          "transient": {
            "deleting": false
          }
        }
      },
      "source": [
        "## 內容摘要 (Summarize Text)\n",
        "\n",
        "在一段文章之後加入提示 TL;DR 即可引導模型來進行內容摘要。TL;DR 是英文 too long; didn't read，我們也可以在 TL;DR 後面增添額外提示，例如 \"TL;DR 2 sentence\" 將所有內容以兩句話總結出來。本範例是採用無樣本學習 (Zero-shot) 意即完全不用給範例直接讓模型產出摘要的內容，為了避免 TL;DR 讓模型以英文回覆摘要內容，我們給予以下提示 :\n",
        "\n",
        "本文:西班牙選舉結束，變數卻比選前更多。西班牙國會大選已在7月24日開票確定結果，右翼在野黨人民黨贏得136個席次，勝過首相桑切斯（Pedro Sánchez）所屬左派社會黨贏得122席，但雙方與其盟友加總，皆無法獲得國會過半所需的176席——這意味著，西班牙新任政府的組成依然懸而未決。原本選前人民黨來勢洶洶，志在將桑切斯趕下台，儘管人民黨黨魁費侯（Alberto Núñez Feijóo）有機會上位，桑切斯仍有不小的機會繼續執政。然而對同樣陷入未過半僵局的社會黨來說，保住政權勢必付出代價——為了獲得更多議員的支持，社會黨勢必要尋求與加泰隆尼亞或是巴斯克獨派政黨合作，而條件可能是必須允許獨立公投。\n",
        "\n",
        "內容摘要:\n"
      ]
    },
    {
      "cell_type": "code",
      "execution_count": 7,
      "metadata": {
        "gather": {
          "logged": 1674495198534
        },
        "jupyter": {
          "outputs_hidden": false,
          "source_hidden": false
        },
        "nteract": {
          "transient": {
            "deleting": false
          }
        }
      },
      "outputs": [],
      "source": [
        "prompt = \"本文:西班牙選舉結束，變數卻比選前更多。西班牙國會大選已在7月24日開票確定結果，右翼在野黨人民黨贏得136個席次，\" \\\n",
        "         \"勝過首相桑切斯（Pedro Sánchez）所屬左派社會黨贏得122席，但雙方與其盟友加總，皆無法獲得國會過半所需的176席——這意味著，\" \\\n",
        "         \"西班牙新任政府的組成依然懸而未決。原本選前人民黨來勢洶洶，志在將桑切斯趕下台，儘管人民黨黨魁費侯（Alberto Núñez Feijóo）有機會上位，\" \\\n",
        "         \"桑切斯仍有不小的機會繼續執政。然而對同樣陷入未過半僵局的社會黨來說，保住政權勢必付出代價——為了獲得更多議員的支持，\" \\\n",
        "         \"社會黨勢必要尋求與加泰隆尼亞或是巴斯克獨派政黨合作，而條件可能是必須允許獨立公投。\\n\" \\\n",
        "         \"內容摘要:\"\n",
        "\n",
        "model = os.getenv('DEPLOYMENT_NAME')"
      ]
    },
    {
      "cell_type": "code",
      "execution_count": 8,
      "metadata": {
        "gather": {
          "logged": 1674495201868
        },
        "jupyter": {
          "outputs_hidden": false,
          "source_hidden": false
        },
        "nteract": {
          "transient": {
            "deleting": false
          }
        }
      },
      "outputs": [
        {
          "data": {
            "text/plain": [
              "'西班牙選舉結束，變數卻比選前更多。西班牙國會大選已在7月24日開票確定結果，右翼在野黨人民黨贏得136個席次，勝過首相桑切斯（Pedro Sánchez）所屬左派'"
            ]
          },
          "execution_count": 8,
          "metadata": {},
          "output_type": "execute_result"
        }
      ],
      "source": [
        "# 可透過參數值控制模型的行為，例如希望摘要內容不要過長，可以透過 max_tokens 參數來控制產出的 Token 數量\n",
        "openai.Completion.create(\n",
        "  engine=model,\n",
        "  prompt=prompt,\n",
        "  temperature=0.4,\n",
        "  max_tokens= 100,\n",
        "  top_p=1,\n",
        "  frequency_penalty=0,\n",
        "  presence_penalty=0,\n",
        "  stop=None)[\"choices\"][0][\"text\"].strip(\" \\n\")\n"
      ]
    },
    {
      "cell_type": "markdown",
      "metadata": {
        "nteract": {
          "transient": {
            "deleting": false
          }
        }
      },
      "source": [
        "## 文字內容分類 (Classify)，貼標籤\n",
        "\n",
        "由大型語言模型來做文字分類與貼標籤是常見的應用情境，並用單一樣本學習 (One-shot) 的方式提供一個範例讓模型了解如何貼標籤，並且利用範例讓模型產生出 \\#\\#\\# ，搭配設定 stop sequence，當產出 \\#\\#\\# 字串後就讓模型停止運作 ，提示如下:\n",
        "\n",
        "標籤分類為以下其中一種 :  Pricing,Support Center Location,Hardware Support,Software Support\n",
        "\n",
        "客戶詢問: 您好，最近我的筆記型電腦鍵盤上一個按鍵脫落損壞了，我需要維修替換，請問你們有哪些維修據點?\n",
        "\n",
        "標籤分類: Hardware Support,Support Center Location\n",
        "\n",
        "\\#\\#\\#\n",
        "\n",
        "客戶詢問: 我安裝了新的 Linux 顯示卡驅動程式後畫面看不見了 ? 買新的電腦要多少錢?\n",
        "\n",
        "標籤分類: \n"
      ]
    },
    {
      "cell_type": "code",
      "execution_count": 9,
      "metadata": {
        "gather": {
          "logged": 1674499424645
        },
        "jupyter": {
          "outputs_hidden": false,
          "source_hidden": false
        },
        "nteract": {
          "transient": {
            "deleting": false
          }
        }
      },
      "outputs": [],
      "source": [
        "prompt = \"標籤分類為以下其中一種 :  Pricing,Support Center Location,Hardware Support,Software Support\\n\" \\\n",
        "         \"客戶詢問: 您好，最近我的筆記型電腦鍵盤上一個按鍵脫落損壞了，我需要維修替換，請問你們有哪些維修據點?\\n\" \\\n",
        "         \"標籤分類: Hardware Support,Support Center Location\\n\" \\\n",
        "         \"###\\n\" \\\n",
        "         \"客戶詢問: 我不知道該如何安裝 Linux 顯示卡驅動程式? 買新的電腦要多少錢?\\n\" \\\n",
        "         \"標籤分類:\"\n",
        "\n",
        "model = os.getenv('DEPLOYMENT_NAME')"
      ]
    },
    {
      "cell_type": "code",
      "execution_count": 11,
      "metadata": {
        "gather": {
          "logged": 1674499378518
        },
        "jupyter": {
          "outputs_hidden": false,
          "source_hidden": false
        },
        "nteract": {
          "transient": {
            "deleting": false
          }
        }
      },
      "outputs": [
        {
          "name": "stdout",
          "output_type": "stream",
          "text": [
            "{\n",
            "  \"id\": \"cmpl-7iYSAg6UNtWxkXTTIIFGIx81bDCHz\",\n",
            "  \"object\": \"text_completion\",\n",
            "  \"created\": 1690853226,\n",
            "  \"model\": \"gpt-35-turbo\",\n",
            "  \"choices\": [\n",
            "    {\n",
            "      \"text\": \" Pricing,Software Support\\n\",\n",
            "      \"index\": 0,\n",
            "      \"finish_reason\": \"stop\",\n",
            "      \"logprobs\": null\n",
            "    }\n",
            "  ],\n",
            "  \"usage\": {\n",
            "    \"completion_tokens\": 5,\n",
            "    \"prompt_tokens\": 183,\n",
            "    \"total_tokens\": 188\n",
            "  }\n",
            "}\n"
          ]
        }
      ],
      "source": [
        "response = openai.Completion.create(\n",
        "  engine=model,\n",
        "  prompt=prompt,\n",
        "  temperature=0,\n",
        "  max_tokens=200,\n",
        "  top_p=1,\n",
        "  frequency_penalty=0,\n",
        "  presence_penalty=0,\n",
        "  stop=\"###\")\n",
        "\n",
        "print(response)"
      ]
    },
    {
      "cell_type": "markdown",
      "metadata": {
        "nteract": {
          "transient": {
            "deleting": false
          }
        }
      },
      "source": [
        "## 產生新產品英文名稱\n",
        "\n",
        "根據提示的英文單詞來發想出產品名稱。此範例中的提示 (Prompt) 包含了產品基本功能描述的資訊以及多個展現產品特質的英文單字，並用單一樣本學習 (One-shot) 的方式提供一個家用奶昔機的產品命名範例示範給模型看，接下來讓模型去預測應該生成的內容，此外我們還將參數值 Temperature 設的較高 (0.8)，以增加隨機性與更具創新性的回應。提示內容如下:\n",
        "\n",
        "產品描述: A home milkshake maker\n",
        "\n",
        "Seed words: fast, healthy, compact.\n",
        "\n",
        "建議產品名稱: HomeShaker, Fit Shaker, QuickShake, Shake Maker\n",
        "\n",
        "產品描述: A pair of shoes that can fit any foot size.\n",
        "\n",
        "Seed words: adaptable, fit, omni-fit."
      ]
    },
    {
      "cell_type": "code",
      "execution_count": 12,
      "metadata": {
        "gather": {
          "logged": 1674257087279
        },
        "jupyter": {
          "outputs_hidden": false,
          "source_hidden": false
        },
        "nteract": {
          "transient": {
            "deleting": false
          }
        }
      },
      "outputs": [],
      "source": [
        "prompt = \"產品描述: A home milkshake maker\\n\" \\\n",
        "         \"Seed words: fast, healthy, compact.\\n\" \\\n",
        "         \"建議產品名稱: HomeShaker, Fit Shaker, QuickShake, Shake Maker\\n\\n\" \\\n",
        "         \"產品描述: A pair of shoes that can fit any foot size.\\n\" \\\n",
        "         \"Seed words: adaptable, fit, omni-fit.\\n\"\n",
        "\n",
        "model = os.getenv('DEPLOYMENT_NAME')"
      ]
    },
    {
      "cell_type": "code",
      "execution_count": 13,
      "metadata": {
        "jupyter": {
          "outputs_hidden": false,
          "source_hidden": false
        },
        "nteract": {
          "transient": {
            "deleting": false
          }
        }
      },
      "outputs": [
        {
          "data": {
            "text/plain": [
              "'建議產品名稱: FitFeet, OmniFit, AnyFit, AdaptFit'"
            ]
          },
          "execution_count": 13,
          "metadata": {},
          "output_type": "execute_result"
        }
      ],
      "source": [
        "openai.Completion.create(\n",
        "  engine= model,\n",
        "  prompt=prompt,\n",
        "  temperature=0.8,\n",
        "  max_tokens=25,\n",
        "  top_p=1,\n",
        "  frequency_penalty=0,\n",
        "  presence_penalty=0,\n",
        "  stop=None)[\"choices\"][0][\"text\"].strip(\" \\n\")"
      ]
    },
    {
      "cell_type": "markdown",
      "metadata": {
        "nteract": {
          "transient": {
            "deleting": false
          }
        }
      },
      "source": [
        "## 內嵌 Embeddings\n",
        "內嵌 (Embeddings) 是被用於自然語言處理中語言模型的一種技術，可將每個單詞或詞組映射為一組浮點數所代表的向量 (vectors)，用以衡量單詞或字串間的相關性\n",
        " * 兩組浮點數之間數字越大代表距離越遠，單詞或字串彼此間的相關性越低\n",
        " * 兩組浮點數之間數字越小代表距離越近，單詞或字串彼此間的相關性越高\n",
        "\n",
        "內嵌 (Embeddings) 可被用於文字之\n",
        " * 搜尋 : 搜尋結果依據查詢後字串的相關性排名\n",
        " * 聚類 (Clustering) 分析 : 依據字串彼此間相似性分組\n",
        " * 建議 :  依據字串間的相關性提出建議\n",
        " * 異常檢測 : 辨識出相關性不大的異常值\n",
        " * 多樣性測量 (Diversity measurement) : 依據向量分布來分析相似性\n",
        " * 分類 (Classification)  :  以最相似的標籤將字串加以分類\n"
      ]
    },
    {
      "cell_type": "code",
      "execution_count": 16,
      "metadata": {
        "gather": {
          "logged": 1674256936134
        },
        "jupyter": {
          "outputs_hidden": true,
          "source_hidden": false
        },
        "nteract": {
          "transient": {
            "deleting": false
          }
        }
      },
      "outputs": [
        {
          "name": "stdout",
          "output_type": "stream",
          "text": [
            "Requirement already satisfied: pandas in c:\\users\\tomlee\\appdata\\local\\programs\\python\\python311\\lib\\site-packages (2.0.3)\n",
            "Requirement already satisfied: plotly in c:\\users\\tomlee\\appdata\\local\\programs\\python\\python311\\lib\\site-packages (5.15.0)\n",
            "Requirement already satisfied: scikit-learn in c:\\users\\tomlee\\appdata\\local\\programs\\python\\python311\\lib\\site-packages (1.3.0)\n",
            "Requirement already satisfied: matplotlib in c:\\users\\tomlee\\appdata\\local\\programs\\python\\python311\\lib\\site-packages (3.7.2)\n",
            "Requirement already satisfied: plotly_express in c:\\users\\tomlee\\appdata\\local\\programs\\python\\python311\\lib\\site-packages (0.4.1)\n",
            "Requirement already satisfied: python-dateutil>=2.8.2 in c:\\users\\tomlee\\appdata\\roaming\\python\\python311\\site-packages (from pandas) (2.8.2)\n",
            "Requirement already satisfied: pytz>=2020.1 in c:\\users\\tomlee\\appdata\\local\\programs\\python\\python311\\lib\\site-packages (from pandas) (2023.3)\n",
            "Requirement already satisfied: tzdata>=2022.1 in c:\\users\\tomlee\\appdata\\local\\programs\\python\\python311\\lib\\site-packages (from pandas) (2023.3)\n",
            "Requirement already satisfied: numpy>=1.21.0 in c:\\users\\tomlee\\appdata\\local\\programs\\python\\python311\\lib\\site-packages (from pandas) (1.25.1)\n",
            "Requirement already satisfied: tenacity>=6.2.0 in c:\\users\\tomlee\\appdata\\local\\programs\\python\\python311\\lib\\site-packages (from plotly) (8.2.2)\n",
            "Requirement already satisfied: packaging in c:\\users\\tomlee\\appdata\\roaming\\python\\python311\\site-packages (from plotly) (23.0)\n",
            "Requirement already satisfied: scipy>=1.5.0 in c:\\users\\tomlee\\appdata\\local\\programs\\python\\python311\\lib\\site-packages (from scikit-learn) (1.11.1)\n",
            "Requirement already satisfied: joblib>=1.1.1 in c:\\users\\tomlee\\appdata\\local\\programs\\python\\python311\\lib\\site-packages (from scikit-learn) (1.3.1)\n",
            "Requirement already satisfied: threadpoolctl>=2.0.0 in c:\\users\\tomlee\\appdata\\local\\programs\\python\\python311\\lib\\site-packages (from scikit-learn) (3.2.0)\n",
            "Requirement already satisfied: contourpy>=1.0.1 in c:\\users\\tomlee\\appdata\\local\\programs\\python\\python311\\lib\\site-packages (from matplotlib) (1.1.0)\n",
            "Requirement already satisfied: cycler>=0.10 in c:\\users\\tomlee\\appdata\\local\\programs\\python\\python311\\lib\\site-packages (from matplotlib) (0.11.0)\n",
            "Requirement already satisfied: fonttools>=4.22.0 in c:\\users\\tomlee\\appdata\\local\\programs\\python\\python311\\lib\\site-packages (from matplotlib) (4.41.1)\n",
            "Requirement already satisfied: kiwisolver>=1.0.1 in c:\\users\\tomlee\\appdata\\local\\programs\\python\\python311\\lib\\site-packages (from matplotlib) (1.4.4)\n",
            "Requirement already satisfied: pillow>=6.2.0 in c:\\users\\tomlee\\appdata\\local\\programs\\python\\python311\\lib\\site-packages (from matplotlib) (10.0.0)\n",
            "Requirement already satisfied: pyparsing<3.1,>=2.3.1 in c:\\users\\tomlee\\appdata\\local\\programs\\python\\python311\\lib\\site-packages (from matplotlib) (3.0.9)\n",
            "Requirement already satisfied: statsmodels>=0.9.0 in c:\\users\\tomlee\\appdata\\local\\programs\\python\\python311\\lib\\site-packages (from plotly_express) (0.14.0)\n",
            "Requirement already satisfied: patsy>=0.5 in c:\\users\\tomlee\\appdata\\local\\programs\\python\\python311\\lib\\site-packages (from plotly_express) (0.5.3)\n",
            "Requirement already satisfied: six in c:\\users\\tomlee\\appdata\\roaming\\python\\python311\\site-packages (from patsy>=0.5->plotly_express) (1.16.0)\n",
            "Note: you may need to restart the kernel to use updated packages.\n"
          ]
        }
      ],
      "source": [
        "# 安裝所需之核心函式庫\n",
        "%pip install pandas plotly scikit-learn matplotlib plotly_express \n"
      ]
    },
    {
      "cell_type": "code",
      "execution_count": 10,
      "metadata": {
        "gather": {
          "logged": 1674829364153
        },
        "jupyter": {
          "outputs_hidden": false,
          "source_hidden": false
        },
        "nteract": {
          "transient": {
            "deleting": false
          }
        }
      },
      "outputs": [],
      "source": [
        "from openai.embeddings_utils import get_embedding, cosine_similarity"
      ]
    },
    {
      "cell_type": "code",
      "execution_count": 12,
      "metadata": {
        "gather": {
          "logged": 1674829424097
        },
        "jupyter": {
          "outputs_hidden": false,
          "source_hidden": false
        },
        "nteract": {
          "transient": {
            "deleting": false
          }
        }
      },
      "outputs": [],
      "source": [
        "text = 'the quick brown fox jumped over the lazy dog'\n",
        "model = 'text-embedding-ada-002'"
      ]
    },
    {
      "cell_type": "code",
      "execution_count": 13,
      "metadata": {
        "gather": {
          "logged": 1674829446467
        },
        "jupyter": {
          "outputs_hidden": true,
          "source_hidden": false
        },
        "nteract": {
          "transient": {
            "deleting": false
          }
        }
      },
      "outputs": [
        {
          "data": {
            "text/plain": [
              "[-0.004474656656384468,\n",
              " 0.00978652760386467,\n",
              " -0.014904950745403767,\n",
              " -0.006424985360354185,\n",
              " -0.01135313231498003,\n",
              " 0.015513833612203598,\n",
              " -0.02372107096016407,\n",
              " -0.016414472833275795,\n",
              " -0.0158182755112648,\n",
              " -0.029632311314344406,\n",
              " 0.021298224106431007,\n",
              " 0.021095262840390205,\n",
              " 0.018570933490991592,\n",
              " 0.004170214757323265,\n",
              " -0.0007155169150792062,\n",
              " -0.007579326163977385,\n",
              " 0.02521790750324726,\n",
              " -0.004214612767100334,\n",
              " 0.011175542138516903,\n",
              " -0.008587788790464401,\n",
              " -0.009513798169791698,\n",
              " 0.021577294915914536,\n",
              " -0.005993693135678768,\n",
              " -0.008257976733148098,\n",
              " 0.006041261833161116,\n",
              " 0.013040246441960335,\n",
              " 0.007439790293574333,\n",
              " -0.0035169341135770082,\n",
              " -0.008955655619502068,\n",
              " 0.0011939817341044545,\n",
              " 0.00666600139811635,\n",
              " 0.0038657733239233494,\n",
              " -0.039272960275411606,\n",
              " -0.002559211803600192,\n",
              " -0.012761174701154232,\n",
              " -0.0217422004789114,\n",
              " -0.0037072100676596165,\n",
              " -0.010458835400640965,\n",
              " 0.02597901225090027,\n",
              " -0.0456916019320488,\n",
              " 0.009399632923305035,\n",
              " 0.015653369948267937,\n",
              " -0.02261747047305107,\n",
              " -0.01161951944231987,\n",
              " -0.0028573106974363327,\n",
              " 0.012215716764330864,\n",
              " 0.010534945875406265,\n",
              " -0.01253284327685833,\n",
              " -0.0228965412825346,\n",
              " 0.01036369800567627,\n",
              " -0.00026955761131830513,\n",
              " 0.006583548616617918,\n",
              " -0.009919720701873302,\n",
              " -0.011625861749053001,\n",
              " -0.004718843847513199,\n",
              " -0.0072368294931948185,\n",
              " -0.0013802936300635338,\n",
              " -0.006250565405935049,\n",
              " 0.009380605071783066,\n",
              " -0.0057621905580163,\n",
              " 0.010782305151224136,\n",
              " 0.013547648675739765,\n",
              " -0.005140622146427631,\n",
              " -0.005632168613374233,\n",
              " 0.0007163097034208477,\n",
              " -0.009399632923305035,\n",
              " 0.011105773970484734,\n",
              " -0.010534945875406265,\n",
              " -0.013052931055426598,\n",
              " -0.004890092182904482,\n",
              " 0.02935323864221573,\n",
              " -0.001888489001430571,\n",
              " 0.00033754162723198533,\n",
              " 0.005996864289045334,\n",
              " 0.0315350703895092,\n",
              " -0.008784406818449497,\n",
              " -0.027450479567050934,\n",
              " 0.00896834023296833,\n",
              " 0.014499028213322163,\n",
              " 0.01159414928406477,\n",
              " 0.029733791947364807,\n",
              " -0.04188608378171921,\n",
              " -0.006066631991416216,\n",
              " 0.0144609734416008,\n",
              " 0.01740390807390213,\n",
              " 0.002544941147789359,\n",
              " -0.025852160528302193,\n",
              " 0.03785223141312599,\n",
              " -0.017036041244864464,\n",
              " 0.011093088425695896,\n",
              " 0.005644853692501783,\n",
              " 0.030748596414923668,\n",
              " 0.008105755783617496,\n",
              " -0.0055275168269872665,\n",
              " -0.017239002510905266,\n",
              " 0.0063901012763381,\n",
              " -0.0008657556609250605,\n",
              " 0.0192305576056242,\n",
              " -0.010046571493148804,\n",
              " -0.025852160528302193,\n",
              " 0.007040210533887148,\n",
              " -0.011714656837284565,\n",
              " -0.027171408757567406,\n",
              " -0.0031125976238399744,\n",
              " 0.006856277119368315,\n",
              " -0.026790855452418327,\n",
              " -0.005492632742971182,\n",
              " 0.022262288257479668,\n",
              " 0.018063532188534737,\n",
              " -0.014219957403838634,\n",
              " 0.01633836328983307,\n",
              " 0.023416629061102867,\n",
              " 0.018203066661953926,\n",
              " -0.039704252034425735,\n",
              " -0.004090933129191399,\n",
              " -0.011308735236525536,\n",
              " 0.009659676812589169,\n",
              " -0.009444030933082104,\n",
              " -0.009266439825296402,\n",
              " -0.008651213720440865,\n",
              " 0.009380605071783066,\n",
              " 0.017657609656453133,\n",
              " 0.02236376889050007,\n",
              " -0.0024339468218386173,\n",
              " -0.01397894136607647,\n",
              " -0.00952014047652483,\n",
              " -0.0038974860217422247,\n",
              " 0.007141691166907549,\n",
              " -0.011308735236525536,\n",
              " 0.0036945249885320663,\n",
              " 0.03249913454055786,\n",
              " 0.023708386346697807,\n",
              " 0.032905057072639465,\n",
              " -0.012437705881893635,\n",
              " -0.03706575930118561,\n",
              " 0.023695699870586395,\n",
              " 0.0051342798396945,\n",
              " -0.011200912296772003,\n",
              " -0.030241193249821663,\n",
              " -0.02241450920701027,\n",
              " -0.001587218721397221,\n",
              " 0.016414472833275795,\n",
              " -0.006577205844223499,\n",
              " 0.008727324195206165,\n",
              " 0.022452564910054207,\n",
              " 0.024088937789201736,\n",
              " 0.02155192382633686,\n",
              " 0.008708296343684196,\n",
              " -0.0020581516437232494,\n",
              " -0.007090950850397348,\n",
              " 0.0181776974350214,\n",
              " -0.0023292950354516506,\n",
              " 0.029860641807317734,\n",
              " 0.0003857052361126989,\n",
              " 0.00962162110954523,\n",
              " 0.015640685334801674,\n",
              " 0.003875287249684334,\n",
              " 0.0144356032833457,\n",
              " -0.027932511642575264,\n",
              " -0.021628035232424736,\n",
              " 0.023683015257120132,\n",
              " 0.022008586674928665,\n",
              " -0.0004213819920551032,\n",
              " -0.008137469179928303,\n",
              " 0.002119991462677717,\n",
              " 0.031154518947005272,\n",
              " 0.03320949897170067,\n",
              " 0.002744730794802308,\n",
              " 0.008035988546907902,\n",
              " -0.010604714043438435,\n",
              " 0.005102567374706268,\n",
              " 0.03298116847872734,\n",
              " -0.011759054847061634,\n",
              " 0.03754778951406479,\n",
              " 0.002018510829657316,\n",
              " 0.006868962198495865,\n",
              " 0.021704144775867462,\n",
              " -0.0078583974391222,\n",
              " -0.03206784278154373,\n",
              " 0.00159118277952075,\n",
              " 0.0040497067384421825,\n",
              " 0.014219957403838634,\n",
              " 0.03881629556417465,\n",
              " 0.0240508820861578,\n",
              " 0.005204047542065382,\n",
              " 0.022541359066963196,\n",
              " 0.005651195999234915,\n",
              " -0.027602700516581535,\n",
              " -0.007344652432948351,\n",
              " -0.0013327245833352208,\n",
              " 0.008733666501939297,\n",
              " 0.0020835218019783497,\n",
              " -0.01879926584661007,\n",
              " -0.01371255423873663,\n",
              " -0.6864141821861267,\n",
              " -0.029860641807317734,\n",
              " 0.004097275901585817,\n",
              " -0.010833045467734337,\n",
              " 0.02160266414284706,\n",
              " 0.0335393100976944,\n",
              " -0.012323539704084396,\n",
              " -0.010446150787174702,\n",
              " -0.00034368596971035004,\n",
              " 0.03544206917285919,\n",
              " -0.03052026592195034,\n",
              " 0.002197687514126301,\n",
              " 0.004687131382524967,\n",
              " -0.0027272887527942657,\n",
              " -0.009824582375586033,\n",
              " -0.00333934323862195,\n",
              " 0.02719677798449993,\n",
              " -0.022972650825977325,\n",
              " -0.007959878072142601,\n",
              " 0.020854245871305466,\n",
              " 0.004791783168911934,\n",
              " 0.006983127910643816,\n",
              " -0.010978923179209232,\n",
              " 0.0017330968985334039,\n",
              " -0.0051342798396945,\n",
              " 0.011296049691736698,\n",
              " -0.0020407098345458508,\n",
              " 0.005349925719201565,\n",
              " -0.001236000913195312,\n",
              " 0.016972616314888,\n",
              " -0.0020359528716653585,\n",
              " 0.018875375390052795,\n",
              " -0.006488410290330648,\n",
              " 0.005441892426460981,\n",
              " 0.04262181743979454,\n",
              " 0.004484170116484165,\n",
              " -0.005946123972535133,\n",
              " 0.020600544288754463,\n",
              " 0.03978036344051361,\n",
              " 0.05337874963879585,\n",
              " -0.03559429198503494,\n",
              " -0.013623759150505066,\n",
              " 0.0145878242328763,\n",
              " 0.008930285461246967,\n",
              " -0.011511695571243763,\n",
              " 0.0011789181735366583,\n",
              " 0.025471609085798264,\n",
              " 0.01716289296746254,\n",
              " -0.0055877710692584515,\n",
              " -0.0156660545617342,\n",
              " 0.013573018833994865,\n",
              " 0.01778445951640606,\n",
              " 0.01635104790329933,\n",
              " 0.00512159476056695,\n",
              " -0.018101586028933525,\n",
              " 0.02704455703496933,\n",
              " 0.010972580872476101,\n",
              " -0.0004316885897424072,\n",
              " -0.0017441964009776711,\n",
              " -0.002383206505328417,\n",
              " -0.010560316033661366,\n",
              " 0.0014667105861008167,\n",
              " -0.0103446701541543,\n",
              " 0.008676583878695965,\n",
              " -0.022579414770007133,\n",
              " 0.0035232766531407833,\n",
              " -0.007046553306281567,\n",
              " 0.010287587530910969,\n",
              " 0.022097382694482803,\n",
              " -0.014321438036859035,\n",
              " 0.0228458009660244,\n",
              " 0.01986481063067913,\n",
              " -0.010553973726928234,\n",
              " 0.01009731087833643,\n",
              " 0.014638564549386501,\n",
              " 0.01080133207142353,\n",
              " 0.009279124438762665,\n",
              " -0.006564520765095949,\n",
              " -0.011581463739275932,\n",
              " 0.006437669973820448,\n",
              " -0.012158634141087532,\n",
              " -0.0026115376967936754,\n",
              " -0.039272960275411606,\n",
              " -0.0015031801303848624,\n",
              " 0.03567039966583252,\n",
              " 0.017200946807861328,\n",
              " -0.03511225804686546,\n",
              " -0.0064027863554656506,\n",
              " -0.005089882295578718,\n",
              " -0.0241523627191782,\n",
              " 0.016845766454935074,\n",
              " 0.024672450497746468,\n",
              " -0.031890250742435455,\n",
              " -0.0011583049781620502,\n",
              " -0.012431363575160503,\n",
              " 0.0085116783156991,\n",
              " -0.006142742466181517,\n",
              " 0.03848648443818092,\n",
              " 0.0411757193505764,\n",
              " -0.03229617327451706,\n",
              " 0.012298169545829296,\n",
              " -0.0018742182292044163,\n",
              " -0.003532790346071124,\n",
              " -0.004239982925355434,\n",
              " 0.014308752492070198,\n",
              " 0.03046952560544014,\n",
              " 0.016756970435380936,\n",
              " 0.0018076216802001,\n",
              " 0.017429279163479805,\n",
              " -0.011156514286994934,\n",
              " -0.008594131097197533,\n",
              " -0.01754344440996647,\n",
              " 0.017467333003878593,\n",
              " 0.00509622460231185,\n",
              " -0.0064598689787089825,\n",
              " -0.02501494623720646,\n",
              " 0.0156660545617342,\n",
              " -0.004465142730623484,\n",
              " 0.015830960124731064,\n",
              " -0.01947157457470894,\n",
              " 0.009425003081560135,\n",
              " -0.011784425005316734,\n",
              " 0.00889222975820303,\n",
              " -0.0008221507305279374,\n",
              " 0.007655436173081398,\n",
              " 0.001875803922303021,\n",
              " -0.026790855452418327,\n",
              " -0.02935323864221573,\n",
              " -0.015919756144285202,\n",
              " -0.004804468248039484,\n",
              " -0.007458817679435015,\n",
              " 0.02024536207318306,\n",
              " 0.03544206917285919,\n",
              " -0.0024339468218386173,\n",
              " -0.0031268682796508074,\n",
              " -0.0043795183300971985,\n",
              " 0.014422918669879436,\n",
              " 0.006161769852042198,\n",
              " 0.01831723377108574,\n",
              " -0.015970496460795403,\n",
              " -0.0316365510225296,\n",
              " 0.009006395936012268,\n",
              " -0.014296067878603935,\n",
              " -0.013611074537038803,\n",
              " 0.007224144414067268,\n",
              " -0.01991555094718933,\n",
              " -0.025826791301369667,\n",
              " 0.004401717334985733,\n",
              " 0.006646973546594381,\n",
              " 0.03052026592195034,\n",
              " -0.012203032150864601,\n",
              " -0.02313755825161934,\n",
              " -0.012367937713861465,\n",
              " -0.015348928049206734,\n",
              " 0.02285848557949066,\n",
              " -0.0053974948823452,\n",
              " -0.03270209580659866,\n",
              " -0.004297065548598766,\n",
              " -0.004645904991775751,\n",
              " -0.02859213575720787,\n",
              " 0.027704181149601936,\n",
              " 0.01402968168258667,\n",
              " -0.0065328083001077175,\n",
              " -0.00420509884133935,\n",
              " 0.01038906816393137,\n",
              " -0.03534058853983879,\n",
              " 0.0032600616104900837,\n",
              " 0.0228965412825346,\n",
              " -0.024596339091658592,\n",
              " -0.026968447491526604,\n",
              " -0.004877407103776932,\n",
              " -0.02260478399693966,\n",
              " -0.006247394252568483,\n",
              " -0.001054445980116725,\n",
              " -0.01755612902343273,\n",
              " 0.011600491590797901,\n",
              " -0.027171408757567406,\n",
              " -0.024266527965664864,\n",
              " -0.002250013407319784,\n",
              " -0.011074061505496502,\n",
              " -0.004347805865108967,\n",
              " 0.018837321549654007,\n",
              " 0.006434498820453882,\n",
              " -0.022769691422581673,\n",
              " 0.015678739175200462,\n",
              " -0.004877407103776932,\n",
              " 0.02468513511121273,\n",
              " 0.012431363575160503,\n",
              " -0.023987457156181335,\n",
              " -0.01007194072008133,\n",
              " 0.021057207137346268,\n",
              " 0.027298258617520332,\n",
              " 0.01277386024594307,\n",
              " -0.013370057567954063,\n",
              " -0.005537030752748251,\n",
              " -0.02019462175667286,\n",
              " 0.0053974948823452,\n",
              " 0.030190452933311462,\n",
              " 0.01494300551712513,\n",
              " 0.009444030933082104,\n",
              " 0.016186142340302467,\n",
              " -0.007541270926594734,\n",
              " 0.007300254423171282,\n",
              " -0.027019187808036804,\n",
              " 0.022021271288394928,\n",
              " -0.03201710432767868,\n",
              " -0.0016078319167718291,\n",
              " -0.004157529678195715,\n",
              " 0.006031747907400131,\n",
              " -0.00013874289288651198,\n",
              " -0.019991662353277206,\n",
              " 0.0004197963571641594,\n",
              " 0.019420834258198738,\n",
              " -0.03871481493115425,\n",
              " 0.017340483143925667,\n",
              " 0.023898661136627197,\n",
              " -0.012298169545829296,\n",
              " 0.02260478399693966,\n",
              " 0.008657556027173996,\n",
              " -0.012843627482652664,\n",
              " 0.002595681231468916,\n",
              " -0.020473694428801537,\n",
              " 0.015285502187907696,\n",
              " -0.005568743217736483,\n",
              " 0.02227497287094593,\n",
              " 0.024672450497746468,\n",
              " 0.008949313312768936,\n",
              " 0.015564573928713799,\n",
              " 0.0016030750703066587,\n",
              " -0.004119474906474352,\n",
              " -0.023505425080657005,\n",
              " 0.003209321293979883,\n",
              " 0.0170740969479084,\n",
              " 0.017036041244864464,\n",
              " 0.008479965850710869,\n",
              " 0.000265197129920125,\n",
              " 0.0073763648979365826,\n",
              " -0.0108203599229455,\n",
              " 0.014714675024151802,\n",
              " -0.0013795007253065705,\n",
              " 0.018063532188534737,\n",
              " -0.006894332356750965,\n",
              " 0.007763259578496218,\n",
              " -0.014016996137797832,\n",
              " 0.011638546362519264,\n",
              " 0.011600491590797901,\n",
              " 0.029327869415283203,\n",
              " -0.005432378966361284,\n",
              " -0.017226317897439003,\n",
              " 0.006463040132075548,\n",
              " -0.0017441964009776711,\n",
              " -0.0035137629602104425,\n",
              " -0.024456804618239403,\n",
              " 0.02767881006002426,\n",
              " 0.007433447986841202,\n",
              " -0.015120596624910831,\n",
              " 0.020955726504325867,\n",
              " 0.005080368369817734,\n",
              " 0.029251758009195328,\n",
              " 0.025141797959804535,\n",
              " 0.004027507733553648,\n",
              " 0.003006360260769725,\n",
              " 0.00889222975820303,\n",
              " 0.01033832784742117,\n",
              " 0.018685100600123405,\n",
              " -0.0005585392354987562,\n",
              " -0.006405957508832216,\n",
              " 0.013116356916725636,\n",
              " 0.013179781846702099,\n",
              " -0.020308788865804672,\n",
              " -0.02564920112490654,\n",
              " -0.005530687980353832,\n",
              " 0.002032781485468149,\n",
              " -0.01754344440996647,\n",
              " 0.020524434745311737,\n",
              " 0.012989506125450134,\n",
              " -0.035315219312906265,\n",
              " 0.013623759150505066,\n",
              " 0.01869778521358967,\n",
              " 0.020334158092737198,\n",
              " -0.021678775548934937,\n",
              " -0.027399739250540733,\n",
              " -0.006104687228798866,\n",
              " 0.004135331138968468,\n",
              " 0.0038372320123016834,\n",
              " 0.005194534081965685,\n",
              " -0.027932511642575264,\n",
              " -0.0003151445707771927,\n",
              " -0.003237862605601549,\n",
              " 0.022287657484412193,\n",
              " -0.00013160755042918026,\n",
              " -0.004766413010656834,\n",
              " 8.805218385532498e-05,\n",
              " -0.00954551063477993,\n",
              " -0.0090127382427454,\n",
              " -0.013446168042719364,\n",
              " 0.020042402669787407,\n",
              " -0.011207254603505135,\n",
              " 0.000565278169233352,\n",
              " -0.028516024351119995,\n",
              " 0.00834042951464653,\n",
              " -0.0005803416715934873,\n",
              " -0.0072621991857886314,\n",
              " -0.007370022591203451,\n",
              " 0.026308823376893997,\n",
              " -0.0006679479265585542,\n",
              " -0.012964135967195034,\n",
              " -0.0011043933918699622,\n",
              " -0.0009379019611515105,\n",
              " 0.019205188378691673,\n",
              " -0.019788701087236404,\n",
              " -0.01402968168258667,\n",
              " -0.017378538846969604,\n",
              " 0.013573018833994865,\n",
              " 0.0025211565662175417,\n",
              " -0.008955655619502068,\n",
              " -0.020017031580209732,\n",
              " -0.011315077543258667,\n",
              " 0.028186213225126266,\n",
              " 0.010084626264870167,\n",
              " -0.013052931055426598,\n",
              " -0.01628762297332287,\n",
              " -0.00637741619721055,\n",
              " 0.02265552431344986,\n",
              " 0.08037257194519043,\n",
              " 0.020740080624818802,\n",
              " -0.018494823947548866,\n",
              " 0.0133827431127429,\n",
              " 0.019116392359137535,\n",
              " -0.026968447491526604,\n",
              " -0.022769691422581673,\n",
              " -0.00637741619721055,\n",
              " 0.027983251959085464,\n",
              " -0.0181269571185112,\n",
              " -0.003780149156227708,\n",
              " -0.009342550300061703,\n",
              " 0.005977836437523365,\n",
              " -0.007890109904110432,\n",
              " 0.024025512859225273,\n",
              " -0.0073763648979365826,\n",
              " 0.0037420939188450575,\n",
              " -0.008448252454400063,\n",
              " 0.002061323029920459,\n",
              " 0.0016300308052450418,\n",
              " -0.005407008808106184,\n",
              " -0.003770635463297367,\n",
              " 0.0002251598925795406,\n",
              " 0.012190346606075764,\n",
              " -0.014207271859049797,\n",
              " 0.0039799390360713005,\n",
              " -0.002403819700703025,\n",
              " 0.016858451068401337,\n",
              " 0.02816084213554859,\n",
              " -0.029632311314344406,\n",
              " -0.0031649235170334578,\n",
              " 0.0075349281542003155,\n",
              " 0.015780219808220863,\n",
              " 0.006272764410823584,\n",
              " 0.021095262840390205,\n",
              " 0.020524434745311737,\n",
              " -0.005191362462937832,\n",
              " 0.014511713758111,\n",
              " 0.032955799251794815,\n",
              " -0.03166192024946213,\n",
              " 0.011797109618782997,\n",
              " 0.007496872916817665,\n",
              " 0.004591993521898985,\n",
              " 0.004842523485422134,\n",
              " 0.023936716839671135,\n",
              " 0.00018294241453986615,\n",
              " -0.01769566535949707,\n",
              " 0.016566693782806396,\n",
              " 0.005981008056551218,\n",
              " -0.029708420857787132,\n",
              " 0.0364568755030632,\n",
              " -0.005235760472714901,\n",
              " -0.010458835400640965,\n",
              " 0.0021723173558712006,\n",
              " 0.0058985548093914986,\n",
              " 0.02554772049188614,\n",
              " -0.019446203485131264,\n",
              " -0.004338291939347982,\n",
              " -0.012964135967195034,\n",
              " 0.0016744284657761455,\n",
              " -0.01036369800567627,\n",
              " -0.020131196826696396,\n",
              " -0.002717775059863925,\n",
              " -0.009507455863058567,\n",
              " -0.001725168782286346,\n",
              " -0.025484293699264526,\n",
              " -0.011740026995539665,\n",
              " -0.008492650464177132,\n",
              " -0.006837249733507633,\n",
              " -0.01501911599189043,\n",
              " -0.02165340445935726,\n",
              " -0.018291862681508064,\n",
              " -0.01890074647963047,\n",
              " -0.010433465242385864,\n",
              " 0.015082541853189468,\n",
              " 0.030444154515862465,\n",
              " 0.010325642302632332,\n",
              " -0.0013271748321130872,\n",
              " 0.004636391066014767,\n",
              " 0.010579343885183334,\n",
              " -0.016858451068401337,\n",
              " -0.01605929248034954,\n",
              " -0.0008498993120156229,\n",
              " -0.026156602427363396,\n",
              " 0.0026384934317320585,\n",
              " 0.009773842059075832,\n",
              " 0.013725239783525467,\n",
              " -0.006478896830230951,\n",
              " 0.0120254410430789,\n",
              " 0.01193030271679163,\n",
              " 0.010579343885183334,\n",
              " 0.008657556027173996,\n",
              " -0.010573001578450203,\n",
              " 0.005739991553127766,\n",
              " 0.02256673015654087,\n",
              " -0.01072522159665823,\n",
              " 0.01195567287504673,\n",
              " 0.03455411642789841,\n",
              " 0.019078336656093597,\n",
              " -0.0053974948823452,\n",
              " 0.03318412974476814,\n",
              " -0.016756970435380936,\n",
              " 0.0008776478935033083,\n",
              " 8.19574052002281e-05,\n",
              " 0.014511713758111,\n",
              " -0.007553956005722284,\n",
              " 0.029962122440338135,\n",
              " 0.005058169364929199,\n",
              " -0.020321473479270935,\n",
              " -0.033285610377788544,\n",
              " 0.03171266242861748,\n",
              " -0.0057621905580163,\n",
              " 0.014866895973682404,\n",
              " 0.012526500970125198,\n",
              " 0.011004293337464333,\n",
              " 0.015069856308400631,\n",
              " 0.015589944086968899,\n",
              " 0.011238967068493366,\n",
              " -0.0001285353791899979,\n",
              " -0.009767499752342701,\n",
              " -0.008467280305922031,\n",
              " -0.021374333649873734,\n",
              " -0.000982299679890275,\n",
              " 0.02935323864221573,\n",
              " -0.025484293699264526,\n",
              " 0.021387018263339996,\n",
              " -0.004198756534606218,\n",
              " -0.015513833612203598,\n",
              " -0.003520105266943574,\n",
              " 0.0032077357172966003,\n",
              " 0.011720999144017696,\n",
              " 0.007370022591203451,\n",
              " 0.0016379589214920998,\n",
              " -0.009780184365808964,\n",
              " -0.04183534160256386,\n",
              " -0.011238967068493366,\n",
              " -0.0036723262164741755,\n",
              " 0.012456733733415604,\n",
              " -0.013509593904018402,\n",
              " 0.0011694043641909957,\n",
              " -0.03095155768096447,\n",
              " -0.008746352046728134,\n",
              " 0.012431363575160503,\n",
              " -0.04285014793276787,\n",
              " 0.019902866333723068,\n",
              " -0.025636514648795128,\n",
              " -0.0015420281561091542,\n",
              " -0.014118476770818233,\n",
              " -0.0023039248771965504,\n",
              " 0.01402968168258667,\n",
              " -0.015780219808220863,\n",
              " -0.010503233410418034,\n",
              " -0.024609025567770004,\n",
              " -0.015792904421687126,\n",
              " -0.002170731546357274,\n",
              " -0.03572114184498787,\n",
              " 0.0079091377556324,\n",
              " -0.015894385054707527,\n",
              " 0.040516097098588943,\n",
              " 0.0180254764854908,\n",
              " 0.03008897230029106,\n",
              " -0.003612072207033634,\n",
              " 0.004699816461652517,\n",
              " 0.024380693212151527,\n",
              " -0.026816226541996002,\n",
              " -0.0038435745518654585,\n",
              " -0.0016680859262123704,\n",
              " -0.0030158739537000656,\n",
              " -0.016427159309387207,\n",
              " -0.0071036359295248985,\n",
              " 0.029632311314344406,\n",
              " 0.005581428296864033,\n",
              " 0.026587894186377525,\n",
              " 0.018811950460076332,\n",
              " -0.01750538870692253,\n",
              " 0.011137486435472965,\n",
              " -0.003894314868375659,\n",
              " 0.008911257609724998,\n",
              " -0.012203032150864601,\n",
              " -0.016173457726836205,\n",
              " 0.020080456510186195,\n",
              " -0.0058287871070206165,\n",
              " 0.016224198043346405,\n",
              " -0.00724317179992795,\n",
              " -0.008689269423484802,\n",
              " -0.0042082699947059155,\n",
              " 0.010465177707374096,\n",
              " 0.03249913454055786,\n",
              " 0.03726872056722641,\n",
              " 0.006450355052947998,\n",
              " 0.022186176851391792,\n",
              " 0.0006576413288712502,\n",
              " -0.004956688731908798,\n",
              " 0.0048139821738004684,\n",
              " -0.003409111173823476,\n",
              " -0.02694307640194893,\n",
              " -0.0016744284657761455,\n",
              " 0.01082670222967863,\n",
              " 0.0063139908015728,\n",
              " 0.026968447491526604,\n",
              " -0.0011440342059358954,\n",
              " 0.016135402023792267,\n",
              " -0.012919737957417965,\n",
              " 0.024190418422222137,\n",
              " -0.003805519314482808,\n",
              " 0.005419693887233734,\n",
              " -0.0115243811160326,\n",
              " -0.011974700726568699,\n",
              " -0.001221730257384479,\n",
              " -0.025864847004413605,\n",
              " -0.010515918023884296,\n",
              " -0.034833185374736786,\n",
              " -0.0113975303247571,\n",
              " -0.017137521877884865,\n",
              " 0.006215681787580252,\n",
              " 0.01957305520772934,\n",
              " -0.011689286679029465,\n",
              " 0.010541288182139397,\n",
              " -0.014714675024151802,\n",
              " -0.037623900920152664,\n",
              " -0.004607849754393101,\n",
              " 0.001599110895767808,\n",
              " 0.044955868273973465,\n",
              " -0.010408095084130764,\n",
              " 0.007902795448899269,\n",
              " 0.012012756429612637,\n",
              " -0.004401717334985733,\n",
              " 0.0011884319828823209,\n",
              " 0.016262251883745193,\n",
              " 0.012437705881893635,\n",
              " 0.004867893643677235,\n",
              " -0.0006806330056861043,\n",
              " 0.018114272505044937,\n",
              " -0.008594131097197533,\n",
              " -0.005032799206674099,\n",
              " -0.01996629126369953,\n",
              " -0.009291809983551502,\n",
              " -0.02439337968826294,\n",
              " -0.010687166824936867,\n",
              " 0.02795788273215294,\n",
              " 0.0008011410827748477,\n",
              " 0.00036429919418878853,\n",
              " -0.008682926185429096,\n",
              " -0.017657609656453133,\n",
              " -0.0003391272621229291,\n",
              " 0.011232624761760235,\n",
              " -0.015171336941421032,\n",
              " -0.006111030001193285,\n",
              " -0.024621710181236267,\n",
              " -4.697437907452695e-05,\n",
              " -0.04183534160256386,\n",
              " 0.009412317536771297,\n",
              " -0.018964171409606934,\n",
              " 0.0034598512575030327,\n",
              " -0.030621744692325592,\n",
              " -0.01260895375162363,\n",
              " 0.007395392749458551,\n",
              " 0.015323557890951633,\n",
              " -0.027704181149601936,\n",
              " -0.006507438141852617,\n",
              " -0.01874852553009987,\n",
              " 0.012805572710931301,\n",
              " -0.025129113346338272,\n",
              " -0.002119991462677717,\n",
              " 0.013408113270998001,\n",
              " 0.002923907246440649,\n",
              " -0.021945161744952202,\n",
              " -0.019978975877165794,\n",
              " -0.005933438893407583,\n",
              " 0.025332072749733925,\n",
              " -0.014042366296052933,\n",
              " -0.01635104790329933,\n",
              " -0.0061300573870539665,\n",
              " 0.012602611444890499,\n",
              " 0.016947245225310326,\n",
              " -0.019776014611124992,\n",
              " 0.00030107208294793963,\n",
              " -0.028718985617160797,\n",
              " -0.005004257895052433,\n",
              " 0.015577259473502636,\n",
              " 0.021539239212870598,\n",
              " -0.001147205475717783,\n",
              " -0.004157529678195715,\n",
              " 0.00729391211643815,\n",
              " -0.009583566337823868,\n",
              " 0.0025306702591478825,\n",
              " 0.003922855947166681,\n",
              " -0.014016996137797832,\n",
              " 0.009919720701873302,\n",
              " -0.019370093941688538,\n",
              " -0.0006207753322087228,\n",
              " -0.016909191384911537,\n",
              " -0.0015380640979856253,\n",
              " 0.003497906494885683,\n",
              " 0.020904986187815666,\n",
              " 0.00032624401501379907,\n",
              " -0.006970442831516266,\n",
              " 0.024368008598685265,\n",
              " -0.02843991480767727,\n",
              " 0.017480019479990005,\n",
              " -0.030723225325345993,\n",
              " 0.006095173303037882,\n",
              " -0.02502763271331787,\n",
              " 0.007813999429345131,\n",
              " 0.010509575717151165,\n",
              " 0.006463040132075548,\n",
              " 0.01405505184084177,\n",
              " -0.020093142986297607,\n",
              " 0.0032568902242928743,\n",
              " -0.025230593979358673,\n",
              " -0.005223075393587351,\n",
              " -0.0036025582812726498,\n",
              " 0.022871172055602074,\n",
              " -0.024862727150321007,\n",
              " 0.011245309375226498,\n",
              " 0.0003555782022885978,\n",
              " 0.010985265485942364,\n",
              " -0.031611181795597076,\n",
              " -0.0079091377556324,\n",
              " 0.033234868198633194,\n",
              " 0.0014722603373229504,\n",
              " 0.024888096377253532,\n",
              " 0.03597484156489372,\n",
              " -0.02434263937175274,\n",
              " 0.007186089176684618,\n",
              " 0.005543373059481382,\n",
              " 0.009488428011536598,\n",
              " 0.012190346606075764,\n",
              " -0.02260478399693966,\n",
              " -0.008048673160374165,\n",
              " -0.009995831176638603,\n",
              " 0.028313063085079193,\n",
              " 0.0039482261054217815,\n",
              " -0.011270679533481598,\n",
              " -0.011600491590797901,\n",
              " -0.0031236971262842417,\n",
              " -0.016465213149785995,\n",
              " 0.015551889315247536,\n",
              " -0.02318829856812954,\n",
              " -0.0029540343675762415,\n",
              " 0.018063532188534737,\n",
              " 0.0026860623620450497,\n",
              " -0.026486415416002274,\n",
              " 0.011010635644197464,\n",
              " -0.013293947093188763,\n",
              " -0.012298169545829296,\n",
              " -0.013192467391490936,\n",
              " -0.005067683290690184,\n",
              " -0.030215824022889137,\n",
              " -0.01967453584074974,\n",
              " -0.0076364087872207165,\n",
              " 0.0023784495424479246,\n",
              " 0.01373792439699173,\n",
              " -0.01164488960057497,\n",
              " -0.025573089718818665,\n",
              " -0.008727324195206165,\n",
              " -0.007002155762165785,\n",
              " -0.010395410470664501,\n",
              " 0.026410304009914398,\n",
              " 0.0037008675280958414,\n",
              " 0.021107947453856468,\n",
              " -0.0228458009660244,\n",
              " 0.011340447701513767,\n",
              " 0.013890145346522331,\n",
              " -0.012976820580661297,\n",
              " 0.030444154515862465,\n",
              " -0.0127040920779109,\n",
              " -0.009558196179568768,\n",
              " -0.006440841592848301,\n",
              " -0.002129505155608058,\n",
              " -0.0023261236492544413,\n",
              " -0.0010695095406845212,\n",
              " -0.004468313883990049,\n",
              " -0.0108964703977108,\n",
              " 0.004598335828632116,\n",
              " 0.021526554599404335,\n",
              " 0.010833045467734337,\n",
              " 0.011238967068493366,\n",
              " -0.008714639581739902,\n",
              " -0.0001291299849981442,\n",
              " -0.004224126227200031,\n",
              " -0.019116392359137535,\n",
              " 0.007579326163977385,\n",
              " -0.008524362929165363,\n",
              " 0.011175542138516903,\n",
              " -0.0267654862254858,\n",
              " -0.011359475553035736,\n",
              " 0.006513780448585749,\n",
              " -0.011974700726568699,\n",
              " -0.026410304009914398,\n",
              " -0.005882698576897383,\n",
              " 0.017873255535960197,\n",
              " -0.005765361711382866,\n",
              " 0.00962162110954523,\n",
              " -0.022300343960523605,\n",
              " -0.0049249762669205666,\n",
              " -0.010985265485942364,\n",
              " -0.02945471927523613,\n",
              " 0.01397894136607647,\n",
              " -0.013002190738916397,\n",
              " 0.029530830681324005,\n",
              " 0.024723190814256668,\n",
              " -0.011695628985762596,\n",
              " -0.010186106897890568,\n",
              " 0.0007638787501491606,\n",
              " 0.0013168682344257832,\n",
              " -0.013623759150505066,\n",
              " -0.021513869985938072,\n",
              " 0.007129006087779999,\n",
              " -0.016997985541820526,\n",
              " -0.0012264872202649713,\n",
              " -0.02950545959174633,\n",
              " 0.001980455592274666,\n",
              " -0.0230995025485754,\n",
              " 0.006710398942232132,\n",
              " -0.022021271288394928,\n",
              " -0.01515865232795477,\n",
              " -0.01740390807390213,\n",
              " 0.024723190814256668,\n",
              " -0.0084609379991889,\n",
              " -0.02117137238383293,\n",
              " -0.0020851073786616325,\n",
              " -0.022287657484412193,\n",
              " 0.003605729667469859,\n",
              " -0.0010718879057094455,\n",
              " -0.0101924492046237,\n",
              " 0.006742111872881651,\n",
              " 0.003875287249684334,\n",
              " -0.01779714599251747,\n",
              " -0.006526465527713299,\n",
              " -0.00012070631782989949,\n",
              " -0.023302463814616203,\n",
              " -0.012818257324397564,\n",
              " 0.015348928049206734,\n",
              " -0.007027525920420885,\n",
              " 0.02208469808101654,\n",
              " 0.20864394307136536,\n",
              " -0.001875803922303021,\n",
              " 0.005407008808106184,\n",
              " 0.036862798035144806,\n",
              " -0.010592028498649597,\n",
              " 0.030139712616801262,\n",
              " 0.021767569705843925,\n",
              " -0.0037262376863509417,\n",
              " -0.006472554057836533,\n",
              " 0.02578873559832573,\n",
              " -0.0026051951572299004,\n",
              " 0.012907053343951702,\n",
              " -0.021615350618958473,\n",
              " 0.005200876388698816,\n",
              " 0.014854210428893566,\n",
              " 0.008467280305922031,\n",
              " -0.005445064045488834,\n",
              " -0.0027685153763741255,\n",
              " -0.014410233125090599,\n",
              " -0.03031730465590954,\n",
              " -0.014473658986389637,\n",
              " -0.006310819648206234,\n",
              " -0.026841595768928528,\n",
              " -0.004344634711742401,\n",
              " 0.010883784852921963,\n",
              " 0.0192812979221344,\n",
              " -0.0085116783156991,\n",
              " -0.0008475208887830377,\n",
              " 0.03267672657966614,\n",
              " 0.018342602998018265,\n",
              " -0.017391223460435867,\n",
              " -0.0027986422646790743,\n",
              " -0.0115243811160326,\n",
              " 0.02255404368042946,\n",
              " -0.014714675024151802,\n",
              " 0.0078583974391222,\n",
              " 0.016274938359856606,\n",
              " 0.018215753138065338,\n",
              " 0.012399650178849697,\n",
              " -0.003875287249684334,\n",
              " 0.0206893403083086,\n",
              " 0.0012185589876025915,\n",
              " -0.0075666410848498344,\n",
              " -0.015107912011444569,\n",
              " 0.0019408148946240544,\n",
              " 0.0253574438393116,\n",
              " ...]"
            ]
          },
          "execution_count": 13,
          "metadata": {},
          "output_type": "execute_result"
        }
      ],
      "source": [
        "openai.Embedding.create(\n",
        "    input=text, engine=model\n",
        ")[\"data\"][0][\"embedding\"]"
      ]
    },
    {
      "cell_type": "code",
      "execution_count": 20,
      "metadata": {
        "gather": {
          "logged": 1674829555255
        },
        "jupyter": {
          "outputs_hidden": false,
          "source_hidden": false
        },
        "nteract": {
          "transient": {
            "deleting": false
          }
        }
      },
      "outputs": [
        {
          "name": "stdout",
          "output_type": "stream",
          "text": [
            "automobile_embedding vs automobile_embedding\n",
            "1.0000000000000002\n",
            "automobile_embedding vs transportation_embedding\n",
            "0.8590042675444729\n",
            "automobile_embedding vs description_embedding\n",
            "0.8474689758064199\n",
            "automobile_embedding vs dinosaur_embedding\n",
            "0.7916123902327199\n",
            "automobile_embedding vs stick_embedding\n",
            "0.7932191675248061\n",
            "automobile_embedding vs house_embedding\n",
            "0.8263383247226136\n",
            "automobile_embedding vs airplane_embedding\n",
            "0.8689659513585208\n",
            "automobile_embedding vs automobile_english_embedding\n",
            "0.8848820675646012\n",
            "automobile_embedding vs automobile_korean_embedding\n",
            "0.8867113614343675\n",
            "automobile_embedding vs chechnya_embedding\n",
            "0.852131766183046\n",
            "automobile_embedding vs chechnya_english_embedding\n",
            "0.7303717474355156\n",
            "automobile_embedding vs chechnya_description_embedding\n",
            "0.7651123686975985\n",
            "automobile_embedding vs maserati_description_embedding\n",
            "0.7621811716929773\n"
          ]
        }
      ],
      "source": [
        "\n",
        "# 比較多種字句之間的相似程度\n",
        "automobile_embedding            = openai.Embedding.create(input='汽車', engine=model)[\"data\"][0][\"embedding\"]\n",
        "transportation_embedding        = openai.Embedding.create(input='交通工具', engine=model)[\"data\"][0][\"embedding\"]\n",
        "description_embedding           = openai.Embedding.create(input='汽車通常有四個輪子，本身具有動力得以驅動前進，不須依軌道或電纜即可行駛，可以讓人們在不同地點之間移動，並且可以運輸物品', engine=model)[\"data\"][0][\"embedding\"]\n",
        "dinosaur_embedding              = openai.Embedding.create(input='暴龍', engine=model)[\"data\"][0][\"embedding\"]\n",
        "stick_embedding                 = openai.Embedding.create(input='棍子', engine=model)[\"data\"][0][\"embedding\"]\n",
        "house_embedding                 = openai.Embedding.create(input='房屋', engine=model)[\"data\"][0][\"embedding\"]\n",
        "airplane_embedding              = openai.Embedding.create(input='飛機', engine=model)[\"data\"][0][\"embedding\"]\n",
        "automobile_english_embedding    = openai.Embedding.create(input='automobile', engine=model)[\"data\"][0][\"embedding\"]\n",
        "automobile_korean_embedding     = openai.Embedding.create(input='자동차', engine=model)[\"data\"][0][\"embedding\"]\n",
        "chechnya_embedding              = openai.Embedding.create(input='車臣', engine=model)[\"data\"][0][\"embedding\"]\n",
        "chechnya_english_embedding      = openai.Embedding.create(input='chechnya', engine=model)[\"data\"][0][\"embedding\"]\n",
        "chechnya_description_embedding  = openai.Embedding.create(input='車臣共和國，是俄羅斯的一個共和國。它位於東歐北高加索地區，靠近里海。該共和國是北高加索聯邦區的一部分，南部與格魯吉亞州接壤。東、北、西分別是達吉斯坦、印古什和俄羅斯北奧塞梯-阿拉尼亞共和國。西北部是斯塔夫羅波爾邊疆區', engine=model)[\"data\"][0][\"embedding\"]\n",
        "maserati_description_embedding  = openai.Embedding.create(input='瑪莎拉蒂送往生者最後一程確實很尊榮，禮儀業者表示目前這款很少改裝使用，有家屬為了讓往生者體面的離開，會選擇好一點的款式', engine=model)[\"data\"][0][\"embedding\"]\n",
        "\n",
        "print (\"automobile_embedding vs automobile_embedding\")\n",
        "print(cosine_similarity(automobile_embedding,automobile_embedding))\n",
        "print (\"automobile_embedding vs transportation_embedding\")\n",
        "print(cosine_similarity(automobile_embedding, transportation_embedding))\n",
        "print (\"automobile_embedding vs description_embedding\")\n",
        "print(cosine_similarity(automobile_embedding, description_embedding))\n",
        "print (\"automobile_embedding vs dinosaur_embedding\")\n",
        "print(cosine_similarity(automobile_embedding, dinosaur_embedding))\n",
        "print (\"automobile_embedding vs stick_embedding\")\n",
        "print(cosine_similarity(automobile_embedding, stick_embedding))\n",
        "print (\"automobile_embedding vs house_embedding\")\n",
        "print(cosine_similarity(automobile_embedding, house_embedding))\n",
        "print (\"automobile_embedding vs airplane_embedding\")\n",
        "print(cosine_similarity(automobile_embedding, airplane_embedding))\n",
        "print (\"automobile_embedding vs automobile_english_embedding\")\n",
        "print(cosine_similarity(automobile_embedding, automobile_english_embedding))\n",
        "print (\"automobile_embedding vs automobile_korean_embedding\")\n",
        "print(cosine_similarity(automobile_embedding, automobile_korean_embedding))\n",
        "print (\"automobile_embedding vs chechnya_embedding\")\n",
        "print(cosine_similarity(automobile_embedding,chechnya_embedding ))\n",
        "print (\"automobile_embedding vs chechnya_english_embedding\")\n",
        "print(cosine_similarity(automobile_embedding,chechnya_english_embedding ))\n",
        "print (\"automobile_embedding vs chechnya_description_embedding\")\n",
        "print(cosine_similarity(automobile_embedding,chechnya_description_embedding ))\n",
        "print (\"automobile_embedding vs maserati_description_embedding\")\n",
        "print(cosine_similarity(automobile_embedding,maserati_description_embedding  ))\n"
      ]
    },
    {
      "cell_type": "markdown",
      "metadata": {
        "nteract": {
          "transient": {
            "deleting": false
          }
        }
      },
      "source": [
        "## 比較 CNN 每日新聞資料集之文章相似程度\n",
        "資料來源: https://huggingface.co/datasets/cnn_dailymail\n"
      ]
    },
    {
      "cell_type": "code",
      "execution_count": 9,
      "metadata": {
        "gather": {
          "logged": 1674831122093
        },
        "jupyter": {
          "outputs_hidden": false,
          "source_hidden": false
        },
        "nteract": {
          "transient": {
            "deleting": false
          }
        }
      },
      "outputs": [
        {
          "data": {
            "text/html": [
              "<div>\n",
              "<style scoped>\n",
              "    .dataframe tbody tr th:only-of-type {\n",
              "        vertical-align: middle;\n",
              "    }\n",
              "\n",
              "    .dataframe tbody tr th {\n",
              "        vertical-align: top;\n",
              "    }\n",
              "\n",
              "    .dataframe thead th {\n",
              "        text-align: right;\n",
              "    }\n",
              "</style>\n",
              "<table border=\"1\" class=\"dataframe\">\n",
              "  <thead>\n",
              "    <tr style=\"text-align: right;\">\n",
              "      <th></th>\n",
              "      <th>articles</th>\n",
              "      <th>highligths</th>\n",
              "    </tr>\n",
              "  </thead>\n",
              "  <tbody>\n",
              "    <tr>\n",
              "      <th>0</th>\n",
              "      <td>BREMEN, Germany -- Carlos Alberto, who scored ...</td>\n",
              "      <td>Werder Bremen pay a club record $10.7 million ...</td>\n",
              "    </tr>\n",
              "    <tr>\n",
              "      <th>1</th>\n",
              "      <td>(CNN) -- Football superstar, celebrity, fashio...</td>\n",
              "      <td>Beckham has agreed to a five-year contract wit...</td>\n",
              "    </tr>\n",
              "    <tr>\n",
              "      <th>2</th>\n",
              "      <td>LOS ANGELES, California (CNN) -- Youssif, the ...</td>\n",
              "      <td>Boy on meeting Spider-Man: \"It was my favorite...</td>\n",
              "    </tr>\n",
              "  </tbody>\n",
              "</table>\n",
              "</div>"
            ],
            "text/plain": [
              "                                            articles  \\\n",
              "0  BREMEN, Germany -- Carlos Alberto, who scored ...   \n",
              "1  (CNN) -- Football superstar, celebrity, fashio...   \n",
              "2  LOS ANGELES, California (CNN) -- Youssif, the ...   \n",
              "\n",
              "                                          highligths  \n",
              "0  Werder Bremen pay a club record $10.7 million ...  \n",
              "1  Beckham has agreed to a five-year contract wit...  \n",
              "2  Boy on meeting Spider-Man: \"It was my favorite...  "
            ]
          },
          "execution_count": 9,
          "metadata": {},
          "output_type": "execute_result"
        }
      ],
      "source": [
        "import pandas as pd\n",
        "cnn_daily_articles = ['BREMEN, Germany -- Carlos Alberto, who scored in FC Porto\\'s Champions League final victory against Monaco in 2004, has joined Bundesliga club Werder Bremen for a club record fee of 7.8 million euros ($10.7 million). Carlos Alberto enjoyed success at FC Porto under Jose Mourinho. \"I\\'m here to win titles with Werder,\" the 22-year-old said after his first training session with his new club. \"I like Bremen and would only have wanted to come here.\" Carlos Alberto started his career with Fluminense, and helped them to lift the Campeonato Carioca in 2002. In January 2004 he moved on to FC Porto, who were coached by José Mourinho, and the club won the Portuguese title as well as the Champions League. Early in 2005, he moved to Corinthians, where he impressed as they won the Brasileirão,but in 2006 Corinthians had a poor season and Carlos Alberto found himself at odds with manager, Emerson Leão. Their poor relationship came to a climax at a Copa Sul-Americana game against Club Atlético Lanús, and Carlos Alberto declared that he would not play for Corinthians again while Leão remained as manager. Since January this year he has been on loan with his first club Fluminense. Bundesliga champions VfB Stuttgart said on Sunday that they would sign a loan agreement with Real Zaragoza on Monday for Ewerthon, the third top Brazilian player to join the German league in three days. A VfB spokesman said Ewerthon, who played in the Bundesliga for Borussia Dortmund from 2001 to 2005, was expected to join the club for their pre-season training in Austria on Monday. On Friday, Ailton returned to Germany where he was the league\\'s top scorer in 2004, signing a one-year deal with Duisburg on a transfer from Red Star Belgrade. E-mail to a friend .',\n",
        "                        '(CNN) -- Football superstar, celebrity, fashion icon, multimillion-dollar heartthrob. Now, David Beckham is headed for the Hollywood Hills as he takes his game to U.S. Major League Soccer. CNN looks at how Bekham fulfilled his dream of playing for Manchester United, and his time playing for England. The world\\'s famous footballer has begun a five-year contract with the Los Angeles Galaxy team, and on Friday Beckham will meet the press and reveal his new shirt number. This week, we take an in depth look at the life and times of Beckham, as CNN\\'s very own \"Becks,\" Becky Anderson, sets out to examine what makes the man tick -- as footballer, fashion icon and global phenomenon. It\\'s a long way from the streets of east London to the Hollywood Hills and Becky charts Beckham\\'s incredible rise to football stardom, a journey that has seen his skills grace the greatest stages in world soccer. She goes in pursuit of the current hottest property on the sports/celebrity circuit in the U.S. and along the way explores exactly what\\'s behind the man with the golden boot. CNN will look back at the life of Beckham, the wonderfully talented youngster who fulfilled his dream of playing for Manchester United, his marriage to pop star Victoria, and the trials and tribulations of playing for England. We\\'ll look at the highs (scoring against Greece), the lows (being sent off during the World Cup), the Man. U departure for the Galacticos of Madrid -- and now the Home Depot stadium in L.A. We\\'ll ask how Beckham and his family will adapt to life in Los Angeles -- the people, the places to see and be seen and the celebrity endorsement. Beckham is no stranger to exposure. He has teamed with Reggie Bush in an Adidas commercial, is the face of Motorola, is the face on a PlayStation game and doesn\\'t need fashion tips as he has his own international clothing line. But what does the star couple need to do to become an accepted part of Tinseltown\\'s glitterati? The road to major league football in the U.S.A. is a well-worn route for some of the world\\'s greatest players. We talk to some of the former greats who came before him and examine what impact these overseas stars had on U.S. soccer and look at what is different now. We also get a rare glimpse inside the David Beckham academy in L.A, find out what drives the kids and who are their heroes. The perception that in the U.S.A. soccer is a \"game for girls\" after the teenage years is changing. More and more young kids are choosing the European game over the traditional U.S. sports. E-mail to a friend .',\n",
        "                        'LOS ANGELES, California (CNN) -- Youssif, the 5-year-old burned Iraqi boy, rounded the corner at Universal Studios when suddenly the little boy hero met his favorite superhero. Youssif has always been a huge Spider-Man fan. Meeting him was \"my favorite thing,\" he said. Spider-Man was right smack dab in front of him, riding a four-wheeler amid a convoy of other superheroes. The legendary climber of buildings and fighter of evil dismounted, walked over to Youssif and introduced himself. Spidey then gave the boy from a far-away land a gentle hug, embracing him in his iconic blue and red tights. He showed Youssif a few tricks, like how to shoot a web from his wrist. Only this time, no web was spun. \"All right Youssif!\" Spider-Man said after the boy mimicked his wrist movement. Other superheroes crowded around to get a closer look. Even the Green Goblin stopped his villainous ways to tell the boy hi. Youssif remained unfazed. He didn\\'t take a liking to Spider-Man\\'s nemesis. Spidey was just too cool. \"It was my favorite thing,\" the boy said later. \"I want to see him again.\" He then felt compelled to add: \"I know it\\'s not the real Spider-Man.\" This was the day of dreams when the boy\\'s nightmares were, at least temporarily, forgotten. He met SpongeBob, Lassie and a 3-year-old orangutan named Archie. The hairy, brownish-red primate took to the boy, grabbing his hand and holding it. Even when Youssif pulled away, Archie would inch his hand back toward the boy\\'s and then snatch it. See Youssif enjoy being a boy again » . The boy giggled inside a play area where sponge-like balls shot out of toy guns. It was a far different artillery than what he was used to seeing in central Baghdad, as recently as a week ago. He squealed with delight and raced around the room collecting as many balls as he could. He rode a tram through the back stages at Universal Studios. At one point, the car shook. Fire and smoke filled the air, debris cascaded down and a big rig skidded toward the vehicle. The boy and his family survived the pretend earthquake unscathed. \"Even I was scared,\" the dad said. \"Well, I wasn\\'t,\" Youssif replied. The father and mother grinned from ear to ear throughout the day. Youssif pushed his 14-month-old sister, Ayaa, in a stroller. \"Did you even need to ask us if we were interested in coming here?\" Youssif\\'s father said in amazement. \"Other than my wedding day, this is the happiest day of my life,\" he said. Just a day earlier, the mother and father talked about their journey out of Iraq and to the United States. They also discussed that day nine months ago when masked men grabbed their son outside the family home, doused him in gas and set him on fire. His mother heard her boy screaming from inside. The father sought help for his boy across Baghdad, but no one listened. He remembers his son\\'s two months of hospitalization. The doctors didn\\'t use anesthetics. He could hear his boy\\'s piercing screams from the other side of the hospital. Watch Youssif meet his doctor and play with his little sister » . The father knew that speaking to CNN would put his family\\'s lives in jeopardy. The possibility of being killed was better than seeing his son suffer, he said. \"Anything for Youssif,\" he said. \"We had to do it.\" They described a life of utter chaos in Baghdad. Neighbors had recently given birth to a baby girl. Shortly afterward, the father was kidnapped and killed. Then, there was the time when some girls wore tanktops and jeans. They were snatched off the street by gunmen. The stories can be even more gruesome. The couple said they had heard reports that a young girl was kidnapped and beheaded --and her killers sewed a dog\\'s head on the corpse and delivered it to her family\\'s doorstep. \"These are just some of the stories,\" said Youssif\\'s mother, Zainab. Under Saddam Hussein, there was more security and stability, they said. There was running water and electricity most of the time. But still life was tough under the dictator, like the time when Zainab\\'s uncle disappeared and was never heard from again after he read a \"religious book,\" she said. Sitting in the parking lot of a Target in suburban Los Angeles, Youssif\\'s father watched as husbands and wives, boyfriends and girlfriends, parents and their children, came and went. Some held hands. Others smiled and laughed. \"Iraq finished,\" he said in what few English words he knows. He elaborated in Arabic: His homeland won\\'t be enjoying such freedoms anytime soon. It\\'s just not possible. Too much violence. Too many killings. His two children have only seen war. But this week, the family has seen a much different side of America -- an outpouring of generosity and a peaceful nation at home. \"It\\'s been a dream,\" the father said. He used to do a lot of volunteer work back in Baghdad. \"Maybe that\\'s why I\\'m being helped now,\" the father said. At Universal Studios, he looked out across the valley below. The sun glistened off treetops and buildings. It was a picturesque sight fit for a Hollywood movie. \"Good America, good America,\" he said in English. E-mail to a friend . CNN\\'s Arwa Damon contributed to this report.'\n",
        "]\n",
        "\n",
        "cnn_daily_article_highlights = ['Werder Bremen pay a club record $10.7 million for Carlos Alberto .\\nThe Brazilian midfielder won the Champions League with FC Porto in 2004 .\\nSince January he has been on loan with his first club, Fluminense .',\n",
        "                                'Beckham has agreed to a five-year contract with Los Angeles Galaxy .\\nNew contract took effect July 1, 2007 .\\nFormer English captain to meet press, unveil new shirt number Friday .\\nCNN to look at Beckham as footballer, fashion icon and global phenomenon .',\n",
        "                                'Boy on meeting Spider-Man: \"It was my favorite thing\"\\nYoussif also met SpongeBob, Lassie and an orangutan at Universal Studios .\\nDad: \"Other than my wedding day, this is the happiest day of my life\"' \n",
        "]\n",
        "\n",
        "cnn_df = pd.DataFrame({\"articles\":cnn_daily_articles, \"highligths\":cnn_daily_article_highlights})\n",
        "\n",
        "cnn_df.head()                      "
      ]
    },
    {
      "cell_type": "code",
      "execution_count": 10,
      "metadata": {
        "gather": {
          "logged": 1674831294043
        },
        "jupyter": {
          "outputs_hidden": false,
          "source_hidden": false
        },
        "nteract": {
          "transient": {
            "deleting": false
          }
        }
      },
      "outputs": [
        {
          "name": "stdout",
          "output_type": "stream",
          "text": [
            "0.7621254342360414\n",
            "0.7103234824922888\n"
          ]
        }
      ],
      "source": [
        "article1_embedding    = openai.Embedding.create(input=cnn_df.articles.iloc[0], engine=model)[\"data\"][0][\"embedding\"]\n",
        "article2_embedding    = openai.Embedding.create(input=cnn_df.articles.iloc[1], engine=model)[\"data\"][0][\"embedding\"]\n",
        "article3_embedding    = openai.Embedding.create(input=cnn_df.articles.iloc[2], engine=model)[\"data\"][0][\"embedding\"]\n",
        "\n",
        "print(cosine_similarity(article1_embedding, article2_embedding))\n",
        "print(cosine_similarity(article1_embedding, article3_embedding))"
      ]
    },
    {
      "cell_type": "markdown",
      "metadata": {
        "nteract": {
          "transient": {
            "deleting": false
          }
        }
      },
      "source": [
        "# 參考資料  \n",
        "\n",
        "1 - [Openai Cookbook](https://github.com/openai/openai-cookbook)  \n",
        "2 - [Azure Documentation - Azure Open AI Models](https://learn.microsoft.com/en-us/azure/cognitive-services/openai/concepts/models)  \n",
        "3 - [Azure AI Studio Examples](https://oai.azure.com/portal)  \n",
        "4 - [Best practices for fine-tuning GPT-3 to classify text](https://docs.google.com/document/d/1rqj7dkuvl7Byd5KQPUJRxc19BJt8wo0yHNwK84KfU3Q/edit#)"
      ]
    },
    {
      "cell_type": "markdown",
      "metadata": {
        "nteract": {
          "transient": {
            "deleting": false
          }
        }
      },
      "source": [
        "# 更多來自微軟協助  \n",
        "[OpenAI Commercialization Team](AzureOpenAITeam@microsoft.com)  \n",
        "AI 專長雲端架構師 [aka.ms/airangers](aka.ms/airangers)"
      ]
    },
    {
      "cell_type": "markdown",
      "metadata": {
        "nteract": {
          "transient": {
            "deleting": false
          }
        }
      },
      "source": [
        "# 原始貢獻者\n",
        "* Brandon Cowen\n",
        "* Ashish Chauhun\n",
        "* Louis Li  \n"
      ]
    },
    {
      "cell_type": "code",
      "execution_count": null,
      "metadata": {},
      "outputs": [],
      "source": []
    }
  ],
  "metadata": {
    "kernel_info": {
      "name": "python310-sdkv2"
    },
    "kernelspec": {
      "display_name": "base",
      "language": "python",
      "name": "python3"
    },
    "language_info": {
      "codemirror_mode": {
        "name": "ipython",
        "version": 3
      },
      "file_extension": ".py",
      "mimetype": "text/x-python",
      "name": "python",
      "nbconvert_exporter": "python",
      "pygments_lexer": "ipython3",
      "version": "3.11.4"
    },
    "microsoft": {
      "host": {
        "AzureML": {
          "notebookHasBeenCompleted": true
        }
      }
    },
    "nteract": {
      "version": "nteract-front-end@1.0.0"
    }
  },
  "nbformat": 4,
  "nbformat_minor": 2
}
