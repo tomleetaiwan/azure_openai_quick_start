{
 "cells": [
  {
   "cell_type": "markdown",
   "metadata": {},
   "source": [
    "# 理解程式碼內容與生成程式碼"
   ]
  },
  {
   "cell_type": "markdown",
   "metadata": {},
   "source": [
    "以目前唯一支援 GPT-3 Completions API 的 gpt-35-turbo-instruct 模型示範"
   ]
  },
  {
   "cell_type": "code",
   "execution_count": 2,
   "metadata": {},
   "outputs": [
    {
     "name": "stdout",
     "output_type": "stream",
     "text": [
      " Department.name\n",
      "FROM Department\n",
      "INNER JOIN Employee ON Department.id = Employee.department_id\n",
      "INNER JOIN Salary_Payments ON Employee.id = Salary_Payments.employee_id\n",
      "WHERE Salary_Payments.date >= CURRENT_DATE - INTERVAL '3 months'\n",
      "GROUP BY Department.name\n",
      "HAVING COUNT(Employee.id) > 10\n"
     ]
    }
   ],
   "source": [
    "import os\n",
    "from dotenv import load_dotenv\n",
    "from openai import AzureOpenAI\n",
    "\n",
    "# 載入環境變數\n",
    "load_dotenv()\n",
    "\n",
    "# 設定呼叫 Azure OpenAI Service API 所需連線資訊\n",
    "azure_endpoint = os.getenv(\"AZURE_OPENAI_ENDPOINT\")\n",
    "api_key=os.getenv(\"AZURE_OPENAI_API_KEY\") \n",
    "api_version=os.getenv(\"AZURE_OPENAI_API_VERSION\")\n",
    "\n",
    "# 最簡之 API 呼叫\n",
    "client = AzureOpenAI(\n",
    "  azure_endpoint=azure_endpoint, \n",
    "  api_key=api_key,  \n",
    "  api_version=api_version\n",
    ")\n",
    "\n",
    "# 透過環境變數取得所使用的模型部署名稱\n",
    "model = os.getenv('COMPLETIONS_DEPLOYMENT_NAME')\n",
    "\n",
    "# 呼叫自動完成 API\n",
    "response  = client.completions.create(\n",
    "  model= model,\n",
    "  prompt=\"### Postgres SQL tables, with their properties:\\n\" \\\n",
    "         \"#\\n\" \\\n",
    "         \"# Employee(id, name, department_id) \\n\" \\\n",
    "         \"# Department(id, name, address)\\n\" \\\n",
    "         \"# Salary_Payments(id, employee_id, amount, date) \\n\" \\\n",
    "         \"### \" \\\n",
    "         \"查詢列出過去 3 個月僱用超過 10 名員工的部門名稱 \\n\"\n",
    "         \"query: SELECT\",\n",
    "  temperature=0,\n",
    "  max_tokens=150,\n",
    "  top_p=1,\n",
    "  frequency_penalty=0,\n",
    "  presence_penalty=0,\n",
    "  stop=[\"#\",\";\"])\n",
    "\n",
    "print(response.choices[0].text)"
   ]
  },
  {
   "cell_type": "markdown",
   "metadata": {},
   "source": [
    "嘗試使用 gpt-35-turbo 與 gpt-4 開始支援的 ChatCompletion API 來進行自動完成"
   ]
  },
  {
   "cell_type": "code",
   "execution_count": 3,
   "metadata": {},
   "outputs": [
    {
     "name": "stdout",
     "output_type": "stream",
     "text": [
      "這個 SQL 查詢的意思是：\n",
      "\n",
      "從 Department 表中選取部門名稱，這些部門必須符合以下條件：\n",
      "1. 與 Employee 表進行連接，連接條件是 Department 表的 id 與 Employee 表的 department_id 相等。\n",
      "2. Employee 表中的員工 id 必須在 Salary_Payments 表中，且這些員工在過去三個月內有薪資記錄。\n",
      "3. 按部門名稱分組，並且只選取員工數量超過 10 的部門。\n"
     ]
    }
   ],
   "source": [
    "model = os.getenv('CHAT_DEPLOYMENT_NAME')\n",
    "\n",
    "response = client.chat.completions.create(\n",
    "  model= model,\n",
    "  messages = [ \n",
    "    {\"role\": \"system\", \"content\": \"你是以正體中文回覆的機器人，不要使用 Markdown 語法回覆。\"}, \n",
    "    {'role': 'user', 'content': \"精簡的告訴我以下這個 SQL 是什麼意思??\\n\"\n",
    "      'Code:' \\\n",
    "      \"SELECT d.name FROM Department d JOIN Employee e ON d.id = e.department_id WHERE e.id IN (SELECT employee_id FROM Salary_Payments WHERE date > now() - interval '3 months') GROUP BY d.name HAVING COUNT(*) > 10\\n\" \\\n",
    "      'Answer:'    \n",
    "    }\n",
    "  ],\n",
    "  temperature=0,\n",
    "  max_tokens=250\n",
    ")\n",
    "\n",
    "print(response.choices[0].message.content) "
   ]
  }
 ],
 "metadata": {
  "kernelspec": {
   "display_name": "Python 3",
   "language": "python",
   "name": "python3"
  },
  "language_info": {
   "codemirror_mode": {
    "name": "ipython",
    "version": 3
   },
   "file_extension": ".py",
   "mimetype": "text/x-python",
   "name": "python",
   "nbconvert_exporter": "python",
   "pygments_lexer": "ipython3",
   "version": "3.11.9"
  },
  "orig_nbformat": 4
 },
 "nbformat": 4,
 "nbformat_minor": 2
}
