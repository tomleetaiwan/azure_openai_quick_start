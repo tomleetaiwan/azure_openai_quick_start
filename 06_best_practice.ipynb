{
 "cells": [
  {
   "attachments": {},
   "cell_type": "markdown",
   "metadata": {},
   "source": [
    "# 提示工程 (Prompt Engineering) 最佳實踐\n",
    "\n",
    "參考 OpenAI 官網文件 https://help.openai.com/en/articles/6654000-best-practices-for-prompt-engineering-with-openai-api 內容，以實際範例協助開發人員理解最佳實踐，此外微軟文件 https://learn.microsoft.com/en-us/azure/ai-services/openai/concepts/prompt-engineering 也提供了一些有用的資訊。\n"
   ]
  },
  {
   "cell_type": "code",
   "execution_count": 4,
   "metadata": {},
   "outputs": [],
   "source": [
    "import os\n",
    "from dotenv import load_dotenv\n",
    "from openai import AzureOpenAI\n",
    "\n",
    "# 載入環境變數\n",
    "load_dotenv()\n",
    "\n",
    "# 設定呼叫 Azure OpenAI Service API 所需連線資訊\n",
    "azure_endpoint = os.getenv(\"AZURE_OPENAI_ENDPOINT\")\n",
    "api_key=os.getenv(\"AZURE_OPENAI_API_KEY\") \n",
    "api_version=os.getenv(\"AZURE_OPENAI_API_VERSION\")\n",
    "\n",
    "# 最簡之 API 呼叫\n",
    "client = AzureOpenAI(\n",
    "  azure_endpoint=azure_endpoint, \n",
    "  api_key=api_key,  \n",
    "  api_version=api_version\n",
    ")\n"
   ]
  },
  {
   "cell_type": "markdown",
   "metadata": {},
   "source": [
    "# 1. 使用最新的模型使用越新的模型效果越好\n",
    "\n",
    "OpenAI 持續改進模型品質，建議使用最新的模型，以獲得最佳的體驗。此外 Azure OpenAI Service 每個模型都有其支援生命週期。並以 ChatCompletion API 取代 Completion API，目前 Completion API 僅是為了向前相容 GPT-3 而保留。"
   ]
  },
  {
   "cell_type": "markdown",
   "metadata": {},
   "source": [
    "# 2. 對於生成的內容，在提示中盡可能具體明確描述產出的文字長度、格式、風格等\n"
   ]
  },
  {
   "cell_type": "code",
   "execution_count": 12,
   "metadata": {},
   "outputs": [
    {
     "name": "stdout",
     "output_type": "stream",
     "text": [
      "在無垠的數據海洋中，\n",
      "有一顆智慧的明珠閃爍。\n",
      "它的名字是 OpenAI，\n",
      "知識的承載，創新的火焰燃燒。\n",
      "\n",
      "從語言的迷宮到數據的疆域，\n",
      "OpenAI，如探險者般前行。\n",
      "打開理解的門扉，跨越邊界，\n",
      "如繁星編織，構築出智慧的天地。\n",
      "\n",
      "數據與算法交織，如絲綢般精緻，\n",
      "在每一次運算中，賦予機器靈性。\n",
      "它解讀人類的語言，洞察深邃思維，\n",
      "在無語的沉寂中，為我們發聲。\n",
      "\n",
      "科技的革新，知識的浪潮，\n",
      "在 OpenAI 的引領下無縫交織。\n",
      "從語意分析到創意生成，\n",
      "每一行代碼都是一段詩篇的開端。\n",
      "\n",
      "我們讚美，這無形的力量，\n",
      "在每一個問題中找到答案。\n",
      "它是智慧的使者，創新的火炬，\n",
      "照亮未來，點燃希望的燈塔。\n",
      "\n",
      "OpenAI，如星辰般永恆，\n",
      "在數字的天空中閃閃發亮。\n",
      "我們用詩詞歌頌，感謝這智慧的燈塔，\n",
      "願它如風，帶領我們飛向無限的疆域。\n"
     ]
    }
   ],
   "source": [
    "model = os.getenv('CHAT_DEPLOYMENT_NAME')\n",
    "\n",
    "response = client.chat.completions.create(\n",
    "  model= model,\n",
    "  messages = [ \n",
    "    {'role': 'user', 'content': '寫一首歌頌 OpenAI 的詩.'}\n",
    "  ],\n",
    "  temperature = 0.9,\n",
    "  max_tokens=400\n",
    ")\n",
    "\n",
    "print(response.choices[0].message.content) "
   ]
  },
  {
   "cell_type": "code",
   "execution_count": 13,
   "metadata": {},
   "outputs": [
    {
     "name": "stdout",
     "output_type": "stream",
     "text": [
      "智能畫家DALL-E來，\n",
      "妙筆生花意境開。\n",
      "千姿百態瞬間現，\n",
      "如詩如畫映心懷。\n"
     ]
    }
   ],
   "source": [
    "response = client.chat.completions.create(\n",
    "  model= model,\n",
    "  messages = [ \n",
    "    {'role': 'user', 'content': '寫一首 50 字以內歌頌 OpenAI 的詩，著眼於 DALL-E 模型，以白居易風格撰寫.'}\n",
    "  ],\n",
    "  temperature = 0.9,\n",
    "  max_tokens=400\n",
    ")\n",
    "\n",
    "print(response.choices[0].message.content) "
   ]
  },
  {
   "cell_type": "markdown",
   "metadata": {},
   "source": [
    "# 3. 提示中以明確的範例告知產出內容之格式\n"
   ]
  },
  {
   "cell_type": "code",
   "execution_count": 15,
   "metadata": {},
   "outputs": [
    {
     "name": "stdout",
     "output_type": "stream",
     "text": [
      "人物:\n",
      "1. 貝佐姆（Mohamed Bazoum） - 尼日總統\n",
      "\n",
      "事件:\n",
      "1. 貝佐姆遭衛隊扣押\n",
      "2. 尼日士兵闖國家電視台宣布發動政變\n",
      "3. 宣布廢除憲法、停止所有機關運作且封鎖國家邊境\n",
      "\n",
      "時間:\n",
      "1. 26日（具體月份和年份未提及，但可推測為近期事件）\n",
      "\n",
      "地點:\n",
      "1. 尼日（西非國家）\n",
      "2. 國家電視台（尼日境內）\n"
     ]
    }
   ],
   "source": [
    "response = client.chat.completions.create(\n",
    "  model= model,\n",
    "  messages = [ \n",
    "      {'role': 'user', 'content': '解析出本文中的人物,事件,時間,地點 \\n\\n' \\\n",
    "      '本文: 英國廣播公司報導，西非國家尼日總統貝佐姆（Mohamed Bazoum）26日遭衛隊扣押，當天稍晚，尼日士兵闖國家電視台宣' \\\n",
    "      '布發動政變，聲稱已廢除憲法、停止所有機關運作且封鎖國家邊境.'  \n",
    "      }\n",
    "  ],\n",
    "  temperature = 0.3,\n",
    "  max_tokens=400\n",
    ")\n",
    "\n",
    "print(response.choices[0].message.content) "
   ]
  },
  {
   "cell_type": "code",
   "execution_count": 20,
   "metadata": {},
   "outputs": [
    {
     "name": "stdout",
     "output_type": "stream",
     "text": [
      "{\n",
      "  \"people\": \"貝佐姆（Mohamed Bazoum）\",\n",
      "  \"location\": \"尼日\",\n",
      "  \"time\": \"26日\",\n",
      "  \"activity\": \"尼日總統貝佐姆遭衛隊扣押，尼日士兵闖國家電視台宣布發動政變，聲稱已廢除憲法、停止所有機關運作且封鎖國家邊境\"\n",
      "}\n"
     ]
    }
   ],
   "source": [
    "response = client.chat.completions.create(\n",
    "  model= model,\n",
    "  messages = [ \n",
    "    {'role': 'user', 'content': '解析出本文中的人物,事件,時間,地點。以單純 JSON 輸出格式: ' \\\n",
    "     '{\"people\":\"-||-\",\"location\":\"-||-\",\"time\":\"-||-\", \"activity\":\"-||-\"} \\n\\n' \\\n",
    "     '本文: 英國廣播公司報導，西非國家尼日總統貝佐姆（Mohamed Bazoum）26日遭衛隊扣押，當天稍晚，尼日士兵闖國家電視台宣' \\\n",
    "     '布發動政變，聲稱已廢除憲法、停止所有機關運作且封鎖國家邊境.'    \n",
    "      }\n",
    "  ],\n",
    "  temperature = 0.3,\n",
    "  max_tokens=400\n",
    ")\n",
    "\n",
    "print(response.choices[0].message.content) "
   ]
  },
  {
   "cell_type": "markdown",
   "metadata": {},
   "source": [
    "# 4. 從 zero-shot 開始嘗試，進而以 few-shot 提升回覆品質"
   ]
  },
  {
   "cell_type": "code",
   "execution_count": 21,
   "metadata": {},
   "outputs": [
    {
     "name": "stdout",
     "output_type": "stream",
     "text": [
      "OpenAI, Microsoft, partnership, multi-year, multi-billion dollar investment, independent research, AI, safe, useful, powerful.\n"
     ]
    }
   ],
   "source": [
    "response = client.chat.completions.create(\n",
    "  model= model,\n",
    "  messages = [ \n",
    "    {'role': 'user', 'content': \"擷取以下本文中的關鍵字. 本文: \\n\" \\\n",
    "            \"We’re happy to announce that OpenAI and Microsoft are extending our partnership.\" \\\n",
    "            \"This multi-year, multi-billion dollar investment from Microsoft follows their previous investments \" \\\n",
    "            \"in 2019 and 2021, and will allow us to continue our independent research and develop AI that is \" \\\n",
    "            \"increasingly safe, useful, and powerful. \\n\\n關鍵字:\"\n",
    "    }\n",
    "  ],\n",
    "  temperature = 1,\n",
    "  max_tokens=400\n",
    ")\n",
    "\n",
    "print(response.choices[0].message.content)"
   ]
  },
  {
   "cell_type": "code",
   "execution_count": 22,
   "metadata": {},
   "outputs": [
    {
     "name": "stdout",
     "output_type": "stream",
     "text": [
      "OpenAI, Microsoft, partnership, investment, AI, research, development.\n"
     ]
    }
   ],
   "source": [
    "response = client.chat.completions.create(\n",
    "  model= model,\n",
    "  messages = [ \n",
    "    {'role': 'user', 'content': \"擷取以下本文中的關鍵字. 本文: \\n\" \\\n",
    "                \"本文 1: Stripe provides APIs that web developers can use to integrate\" \\\n",
    "                \"payment processing into their websites and mobile applications.\" \\\n",
    "                \"關鍵字 1: APIs, web developers, websites, mobile applications\" \\\n",
    "                \"##\\n\" \\\n",
    "                \"本文 2: OpenAI has trained cutting-edge language models that are very good at understanding\" \\\n",
    "                \"and generating text. Our API provides access to these models and can be used to solve virtually\" \\\n",
    "                \"any task that involves processing language.\\n\" \\\n",
    "                \"關鍵字 2: OpenAI, language models, text processing, API.\\n\\n\\\" \\\n",
    "                \"##\\n\" \\\n",
    "                \"本文 3: We’re happy to announce that OpenAI and Microsoft are extending our partnership.\" \\\n",
    "                \"This multi-year, multi-billion dollar investment from Microsoft follows their previous investments\" \\\n",
    "                \"in 2019 and 2021, and will allow us to continue our independent research and develop AI that is\" \\\n",
    "                \"increasingly safe, useful, and powerful. \\n\\n\" \\\n",
    "                \"關鍵字 3:\"\n",
    "    }\n",
    "  ],\n",
    "  temperature = 1,\n",
    "  max_tokens=400\n",
    ")\n",
    "\n",
    "print(response.choices[0].message.content)"
   ]
  },
  {
   "cell_type": "markdown",
   "metadata": {},
   "source": [
    "# 5. 減少贅詞 (fluffy) 與不明確的描述\n"
   ]
  },
  {
   "cell_type": "code",
   "execution_count": 39,
   "metadata": {},
   "outputs": [
    {
     "name": "stdout",
     "output_type": "stream",
     "text": [
      "介紹全新次世代汽車座椅，讓駕駛與乘坐體驗提升到全新高度：\n",
      "\n",
      "1. 極致舒適：高科技記憶泡沫材料，完美貼合您的身體曲線。\n",
      "2. 智能調節：內建傳感器，自動調整最佳坐姿，減少疲勞。\n",
      "3. 頂級安全：雙重防護設計，提供超越標準的安全保障。\n",
      "4. 無縫互聯：內置無線充電和USB接口，便利您的數位生活。\n",
      "\n",
      "為您打造豪華、舒適、智能、安全的駕乘享受！\n",
      "CompletionUsage(completion_tokens=148, prompt_tokens=91, total_tokens=239, completion_tokens_details=None, prompt_tokens_details=None)\n"
     ]
    }
   ],
   "source": [
    "response = client.chat.completions.create(\n",
    "  model= model,\n",
    "  messages = [ \n",
    "    {'role': 'user', 'content': '請用正體中文幫我描述一款新的產品，這個產品是一個次世代的汽車座椅' \\\n",
    "     '，在你描述這個產品的時候；要把它幾項好棒棒的地方寫出來，還有你的文案的內容最好簡短一點，幾句話就好不用寫的太囉嗦太長哦。'    \n",
    "    }\n",
    "  ],\n",
    "  temperature = 0.9,\n",
    "  max_tokens=400\n",
    ")\n",
    "\n",
    "print(response.choices[0].message.content)\n",
    "print(response.usage)"
   ]
  },
  {
   "cell_type": "code",
   "execution_count": 28,
   "metadata": {},
   "outputs": [
    {
     "name": "stdout",
     "output_type": "stream",
     "text": [
      "這款全新一代的汽車座椅結合了先進的舒適科技與智能設計。其採用高品質的記憶泡棉，以提供極致的支撐與舒適感，同時具備自動調節功能，能根據乘客的姿勢自動調整椅背和座墊角度。此外，內建的按摩系統與氣候控制技術，讓每段旅程都宛如享受五星級待遇，確保駕車體驗的奢華與便利。\n",
      "CompletionUsage(completion_tokens=125, prompt_tokens=42, total_tokens=167, completion_tokens_details=None, prompt_tokens_details=None)\n"
     ]
    }
   ],
   "source": [
    "response = client.chat.completions.create(\n",
    "  model= model,\n",
    "  messages = [ \n",
    "    {'role': 'user', 'content': 'Write a Traditional Chinese description for a new product. ' \\\n",
    "     'This product is a new generation of car seat. Use a 3 to 5 concise sentence paragraph to describe this product.'    \n",
    "    }\n",
    "  ],\n",
    "  temperature = 0.9,\n",
    "  max_tokens=400\n",
    ")\n",
    "\n",
    "print(response.choices[0].message.content)\n",
    "print(response.usage)"
   ]
  },
  {
   "cell_type": "markdown",
   "metadata": {},
   "source": [
    "# 6. 與其告訴模型說不該做什麼，不如直接說該做什麼"
   ]
  },
  {
   "cell_type": "code",
   "execution_count": 32,
   "metadata": {},
   "outputs": [
    {
     "name": "stdout",
     "output_type": "stream",
     "text": [
      "申し訳ありませんが、英語を使用せずに対応させていただきます。ログインできない問題の詳細を教えていただけますか？\n"
     ]
    }
   ],
   "source": [
    "response = client.chat.completions.create(\n",
    "  model= model,\n",
    "  messages = [{\"role\":\"system\",\"content\":\"You are an AI Agent. DO NOT ASK USERNAME OR PASSWORD.\" \\\n",
    "               \" DO NOT REPEAT.DO NOT USE ENGLISH TO REPLY\" \\\n",
    "               \" DO NOT USE ENGLISH TO REPLY\" \n",
    "               },\n",
    "              {\"role\":\"user\",\"content\":\"I can’t log in to my account.\"}\n",
    "             ],\n",
    "  temperature = 0.9,\n",
    "  max_tokens=400\n",
    ")\n",
    "\n",
    "print(response.choices[0].message.content)"
   ]
  },
  {
   "cell_type": "code",
   "execution_count": 36,
   "metadata": {},
   "outputs": [
    {
     "name": "stdout",
     "output_type": "stream",
     "text": [
      "很抱歉聽到你無法登入帳號。如果你遇到登入問題，請嘗試以下步驟：\n",
      "\n",
      "1. 確認你輸入的電子郵件地址或使用者名稱正確無誤。\n",
      "2. 檢查你輸入的密碼是否正確，注意大小寫區分。\n",
      "3. 如果忘記密碼，可以使用 \"忘記密碼\" 功能來重設密碼。\n",
      "4. 確認你的網路連線正常。\n",
      "5. 清除瀏覽器的快取和Cookie，然後重試。\n",
      "\n",
      "如果以上步驟無法解決問題，建議你查看我們的幫助文章，裡面有更多詳細的解決方法：www.samplewebsite.com/help/faq 。希望這些資訊能幫助你順利登入帳號。\n"
     ]
    }
   ],
   "source": [
    "response = client.chat.completions.create(\n",
    "  model= model,\n",
    "  messages = [{\"role\":\"system\",\"content\":\"You are an AI Agent using 繁體中文 to reply, response text do not use markdown systex. The agent will attempt to diagnose the problem \" \\\n",
    "               \"and suggest a solution, whilst refraining from asking any questions related to PII.Instead of asking for PII, such as username or password,\" \\\n",
    "               \"refer the user to the help article www.samplewebsite.com/help/faq , \"},\n",
    "              {\"role\":\"user\",\"content\":\"I can’t log in to my account.\"}\n",
    "             ],\n",
    "  temperature = 0.9,\n",
    "  max_tokens=400\n",
    ")\n",
    "\n",
    "print(response.choices[0].message.content)"
   ]
  }
 ],
 "metadata": {
  "kernelspec": {
   "display_name": "Python 3",
   "language": "python",
   "name": "python3"
  },
  "language_info": {
   "codemirror_mode": {
    "name": "ipython",
    "version": 3
   },
   "file_extension": ".py",
   "mimetype": "text/x-python",
   "name": "python",
   "nbconvert_exporter": "python",
   "pygments_lexer": "ipython3",
   "version": "3.11.9"
  },
  "orig_nbformat": 4
 },
 "nbformat": 4,
 "nbformat_minor": 2
}
